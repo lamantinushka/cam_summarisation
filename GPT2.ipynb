{
  "nbformat": 4,
  "nbformat_minor": 0,
  "metadata": {
    "colab": {
      "name": "GPT2.ipynb",
      "provenance": [],
      "toc_visible": true,
      "include_colab_link": true
    },
    "kernelspec": {
      "name": "python3",
      "display_name": "Python 3"
    },
    "accelerator": "GPU"
  },
  "cells": [
    {
      "cell_type": "markdown",
      "metadata": {
        "id": "view-in-github",
        "colab_type": "text"
      },
      "source": [
        "<a href=\"https://colab.research.google.com/github/lamantinushka/cam_summarisation/blob/master/GPT2.ipynb\" target=\"_parent\"><img src=\"https://colab.research.google.com/assets/colab-badge.svg\" alt=\"Open In Colab\"/></a>"
      ]
    },
    {
      "cell_type": "markdown",
      "metadata": {
        "id": "JdRvv6ZgvBg0",
        "colab_type": "text"
      },
      "source": [
        "#Introduction\n",
        "In this part of the project we investigate potential of GPT-2 architecture in unsupervised summarization task. GPT-2 is a self-attentive models consisting of sequentially stacked transformer decoders. It is a model with 1.5 billion parameters trained for language modeling task in 40GB of Internet text. \n",
        "\n",
        "Firstly we try using GPT-2 with the weights that were released. Then we finetune model on the set of all sentences from the CAM outputs and apply finetuned model.\n",
        "\n",
        "We use four techniques for decoding:\n",
        "- greedy decoding (choose the most probable token on each step)\n",
        "- soft decoding (choose token with predicted probabilities)\n",
        "- beam search (maintain heap of most probable decodings on each step)\n",
        "- **UPD** diverse beam search (penalising hypothsis that are expansions of the same parent node)\n",
        "\n",
        "In all cases we start with the phrase \"\\<object1> is better than \\<object2> because\". We also feed sentences corresponding to the extracted aspects. We rank this sentences by the CAM_score and extract up to 5 sentences with different aspects."
      ]
    },
    {
      "cell_type": "markdown",
      "metadata": {
        "id": "2EhgjP2KCrTX",
        "colab_type": "text"
      },
      "source": [
        "# Loading data"
      ]
    },
    {
      "cell_type": "code",
      "metadata": {
        "id": "jHtkjswuotYB",
        "colab_type": "code",
        "colab": {
          "base_uri": "https://localhost:8080/",
          "height": 169
        },
        "outputId": "0a61a270-8846-4a56-c34a-1daf453fe5d7"
      },
      "source": [
        "from google.colab import drive\n",
        "drive.mount('/content/drive')"
      ],
      "execution_count": 1,
      "outputs": [
        {
          "output_type": "stream",
          "text": [
            "Go to this URL in a browser: https://accounts.google.com/o/oauth2/auth?client_id=947318989803-6bn6qk8qdgf4n4g3pfee6491hc0brc4i.apps.googleusercontent.com&redirect_uri=urn%3aietf%3awg%3aoauth%3a2.0%3aoob&response_type=code&scope=email%20https%3a%2f%2fwww.googleapis.com%2fauth%2fdocs.test%20https%3a%2f%2fwww.googleapis.com%2fauth%2fdrive%20https%3a%2f%2fwww.googleapis.com%2fauth%2fdrive.photos.readonly%20https%3a%2f%2fwww.googleapis.com%2fauth%2fpeopleapi.readonly\n",
            "\n",
            "Enter your authorization code:\n",
            "··········\n",
            "Mounted at /content/drive\n"
          ],
          "name": "stdout"
        }
      ]
    },
    {
      "cell_type": "code",
      "metadata": {
        "id": "PTIlUx7apIE9",
        "colab_type": "code",
        "colab": {}
      },
      "source": [
        "import json"
      ],
      "execution_count": 0,
      "outputs": []
    },
    {
      "cell_type": "code",
      "metadata": {
        "id": "-2ARkfn91xBq",
        "colab_type": "code",
        "colab": {}
      },
      "source": [
        "data = []\n",
        "for line in open('drive/My Drive/summarization/mined_bow_str.json', 'r'):\n",
        "    data.append(json.loads(line))"
      ],
      "execution_count": 0,
      "outputs": []
    },
    {
      "cell_type": "code",
      "metadata": {
        "id": "5rCPGBCMpin9",
        "colab_type": "code",
        "colab": {}
      },
      "source": [
        "# usefull function that extracts all supporting sentences from the CAM output\n",
        "def write_sentences(sample, sentences = None):\n",
        "    if sentences is None:\n",
        "        sentences = []\n",
        "    for s in sample['object1']['sentences']:\n",
        "        sentences.append(s['text'] + '\\n')\n",
        "    for s in sample['object2']['sentences']:\n",
        "        sentences.append(s['text'] + '\\n')\n",
        "    return sentences"
      ],
      "execution_count": 0,
      "outputs": []
    },
    {
      "cell_type": "markdown",
      "metadata": {
        "id": "OtvS2R591A7Z",
        "colab_type": "text"
      },
      "source": [
        "Let's choose some samples to compare model's performance"
      ]
    },
    {
      "cell_type": "code",
      "metadata": {
        "id": "_aCKTgYKFLvt",
        "colab_type": "code",
        "colab": {}
      },
      "source": [
        "def extract_sentences_with_aspects(sample, n = 5):\n",
        "    sentences = []\n",
        "    aspects = []\n",
        "    for s in sample['object1']['sentences']:\n",
        "        if s['context_aspects'] != [] and s['context_aspects'][0] not in aspects:\n",
        "            sentences.append((s['CAM_score'], s['text'], s['context_aspects'][0]))\n",
        "    for s in sample['object2']['sentences']:\n",
        "        if s['context_aspects'] != [] and s['context_aspects'][0] not in aspects:\n",
        "            sentences.append((s['CAM_score'], s['text'], s['context_aspects'][0]))\n",
        "    sentences = sorted(sentences)\n",
        "    result = []\n",
        "    i = 1\n",
        "    while len(aspects) != 5 and i <= len(sentences):\n",
        "        if sentences[-i][2] not in aspects:\n",
        "            result.append(sentences[-i][1])\n",
        "            aspects.append(sentences[-i][2])\n",
        "        i += 1\n",
        "    return result"
      ],
      "execution_count": 0,
      "outputs": []
    },
    {
      "cell_type": "code",
      "metadata": {
        "id": "Yi92QgUZse69",
        "colab_type": "code",
        "outputId": "d5cc08dc-6868-4484-c366-922aa6b2824a",
        "colab": {
          "base_uri": "https://localhost:8080/",
          "height": 363
        }
      },
      "source": [
        "samples = [data[4], data[155], data[228]]\n",
        "\n",
        "for s in samples:\n",
        "  print(s['object1']['name'] + ' vs ' + s['object2']['name'])\n",
        "  for sent in extract_sentences_with_aspects(s, n = 5):\n",
        "      print(sent)\n",
        "  print()"
      ],
      "execution_count": 65,
      "outputs": [
        {
          "output_type": "stream",
          "text": [
            "python vs java\n",
            "Python runs slower than Java .\n",
            "Python is actually older than Java.\n",
            "Python Memory Model ------------------- Reasoning about concurrency in Python is easier than in Java.\n",
            "The simpler syntax of Python makes those apps faster to code than with Java.\n",
            "Python is easier to program in than Java.\n",
            "\n",
            "toyota vs nissan\n",
            "Toyota costs more than Nissan the diffrence Toyota has an all-wheel drive and Nissan has front-wheel drive.\n",
            "And Toyota was smaller than Nissan and Honda.\n",
            "I know Toyota owners are smarter than Nissan owners.)\n",
            "Toyota or Honda will depreciate slower than a Nissan.\n",
            "The Toyota also sits a little higher than the Nissan.\n",
            "\n",
            "tea vs juice\n",
            "Afternoon Snack: The Juice That's Healthier Than Wine, Green Tea .\n",
            "Juice: Frozen orange juice is cheaper, but usually I just stick to tea and buy the GOOD orange juice for special occasions.\n",
            "\n"
          ],
          "name": "stdout"
        }
      ]
    },
    {
      "cell_type": "markdown",
      "metadata": {
        "id": "2cEEkKQ5xdEt",
        "colab_type": "text"
      },
      "source": [
        "# Decoding techniques"
      ]
    },
    {
      "cell_type": "code",
      "metadata": {
        "id": "hsOg6NTmIWxO",
        "colab_type": "code",
        "colab": {}
      },
      "source": [
        "def decode_greedy(model, begining, maxlen = 20, past = None):\n",
        "    result = torch.tensor(tokenizer.convert_tokens_to_ids(tokenizer.tokenize(begining))).view(1, -1).cuda()\n",
        "    for i in range(maxlen):\n",
        "        with torch.no_grad():\n",
        "            if past is not None:\n",
        "                predictions, _ = model(result, past = past)\n",
        "            else:\n",
        "                predictions, _ = model(result)\n",
        "            pred = torch.argmax(predictions[0, -1, :]).item()\n",
        "            result = torch.cat([result, pred*torch.ones(1, 1, dtype = torch.long, device = 'cuda')], dim = -1)\n",
        "    return result"
      ],
      "execution_count": 0,
      "outputs": []
    },
    {
      "cell_type": "code",
      "metadata": {
        "id": "HCSux2fyIhD_",
        "colab_type": "code",
        "colab": {}
      },
      "source": [
        "def decode_soft(model, begining, maxlen = 20, temperature = 1.0, past = None):\n",
        "    result = torch.tensor(tokenizer.convert_tokens_to_ids(tokenizer.tokenize(begining))).view(1, -1).cuda()\n",
        "    for i in range(maxlen):\n",
        "        with torch.no_grad():\n",
        "            if past is not None:\n",
        "                predictions, _ = model(result, past = past)\n",
        "            else:\n",
        "                predictions, _ = model(result)\n",
        "            word_weights = predictions[0, -1].div(temperature).exp().cpu() \n",
        "            pred = torch.multinomial(word_weights, 1)[0].cuda()\n",
        "            result = torch.cat([result, pred*torch.ones(1, 1, dtype = torch.long, device = 'cuda')], dim = -1)\n",
        "    return result"
      ],
      "execution_count": 0,
      "outputs": []
    },
    {
      "cell_type": "code",
      "metadata": {
        "id": "WEJxj9FjIlfB",
        "colab_type": "code",
        "colab": {}
      },
      "source": [
        "from heapq import heappop, heappush\n",
        "\n",
        "#beam-search step\n",
        "def make_decoding_step(heap, gpt_model, heap_size = 10, beam_size = 3, past = None):\n",
        "    result = []\n",
        "    for node in heap:\n",
        "        n = node[1].shape[-1]\n",
        "        p = node[0]\n",
        "        with torch.no_grad():\n",
        "            if past is not None:\n",
        "                predictions, _ = model(node[1], past = past)\n",
        "            else:\n",
        "                predictions, _ = model(node[1])\n",
        "            predictions = predictions[0, -1]\n",
        "            predictions -= predictions.min()\n",
        "            probs = predictions.exp()\n",
        "            probs /= probs.sum()\n",
        "        top_p, top_i = torch.topk(probs, beam_size)\n",
        "        for i in range(beam_size):\n",
        "            mean_prob = (p*n - torch.log(top_p[i]))/(n + 1)\n",
        "            prefics = torch.cat([node[1], top_i[i]*torch.ones(1, 1, dtype = torch.long, device = 'cuda')], \n",
        "                                dim = -1)\n",
        "            heappush(result, (mean_prob, prefics))\n",
        "            result = result[:heap_size]\n",
        "    return result"
      ],
      "execution_count": 0,
      "outputs": []
    },
    {
      "cell_type": "code",
      "metadata": {
        "id": "cP45JkyzQUvt",
        "colab_type": "code",
        "colab": {}
      },
      "source": [
        "def make_decoding_step_with_penalty(heap, gpt_model, heap_size = 10, beam_size = 3, past = None, penalty = 0.1):\n",
        "    result = []\n",
        "    for node in heap:\n",
        "        n = node[1].shape[-1]\n",
        "        p = node[0]\n",
        "        with torch.no_grad():\n",
        "            if past is not None:\n",
        "                predictions, _ = model(node[1], past = past)\n",
        "            else:\n",
        "                predictions, _ = model(node[1])\n",
        "            predictions = predictions[0, -1]\n",
        "            predictions -= predictions.min()\n",
        "            probs = predictions.exp()\n",
        "            probs /= probs.sum()\n",
        "        top_p, top_i = torch.topk(probs, beam_size)\n",
        "        for i in range(beam_size):\n",
        "            score = p - torch.log(top_p[i]) + penalty * i\n",
        "            prefics = torch.cat([node[1], top_i[i]*torch.ones(1, 1, dtype = torch.long, device = 'cuda')], \n",
        "                                dim = -1)\n",
        "            heappush(result, (score, prefics))\n",
        "            result = result[:heap_size]\n",
        "    return result"
      ],
      "execution_count": 0,
      "outputs": []
    },
    {
      "cell_type": "markdown",
      "metadata": {
        "id": "ohrMUSLVDx9l",
        "colab_type": "text"
      },
      "source": [
        "#Raw GPT-2"
      ]
    },
    {
      "cell_type": "code",
      "metadata": {
        "id": "JAas6SAw1O88",
        "colab_type": "code",
        "colab": {}
      },
      "source": [
        "!pip install pytorch-pretrained-bert"
      ],
      "execution_count": 0,
      "outputs": []
    },
    {
      "cell_type": "code",
      "metadata": {
        "id": "rlsL93-81Xo2",
        "colab_type": "code",
        "colab": {}
      },
      "source": [
        "import numpy as np\n",
        "import pandas as pd\n",
        "import torch\n",
        "from pytorch_pretrained_bert import *\n",
        "from torch.nn import CrossEntropyLoss, KLDivLoss\n",
        "from tqdm import tqdm\n",
        "import matplotlib.pyplot as plt\n",
        "from IPython.display import clear_output"
      ],
      "execution_count": 0,
      "outputs": []
    },
    {
      "cell_type": "code",
      "metadata": {
        "id": "wYckWNYuDw2B",
        "colab_type": "code",
        "outputId": "7c8bc80a-05af-4be2-d6fe-62558330ab41",
        "colab": {
          "base_uri": "https://localhost:8080/",
          "height": 85
        }
      },
      "source": [
        "model = GPT2LMHeadModel.from_pretrained('gpt2').cuda()\n",
        "tokenizer = GPT2Tokenizer.from_pretrained('gpt2')"
      ],
      "execution_count": 25,
      "outputs": [
        {
          "output_type": "stream",
          "text": [
            "100%|██████████| 548118077/548118077 [00:21<00:00, 25316026.87B/s]\n",
            "100%|██████████| 176/176 [00:00<00:00, 94580.08B/s]\n",
            "100%|██████████| 1042301/1042301 [00:00<00:00, 2032254.64B/s]\n",
            "100%|██████████| 456318/456318 [00:00<00:00, 1329317.29B/s]\n"
          ],
          "name": "stderr"
        }
      ]
    },
    {
      "cell_type": "code",
      "metadata": {
        "id": "GPu-wvzLZNfE",
        "colab_type": "code",
        "outputId": "91ddd9fe-371a-42f0-d698-09626f18fdff",
        "colab": {
          "base_uri": "https://localhost:8080/",
          "height": 190
        }
      },
      "source": [
        "decode = decode_greedy\n",
        "\n",
        "for s in samples:\n",
        "    name1 = s['object1']['name']\n",
        "    name2 = s['object2']['name']\n",
        "\n",
        "    begining = ' '.join(extract_sentences_with_aspects(s))\n",
        "    l = len(begining)\n",
        "    if s['object1']['points']['none'] > s['object2']['points']['none']:\n",
        "        begining += '{} is better than {} because'.format(name1, name2)\n",
        "    else:\n",
        "        begining += '{} is better than {} because'.format(name2, name1)\n",
        "\n",
        "    result = decode(model, begining, maxlen = 30)\n",
        "    tokens = tokenizer.convert_ids_to_tokens(result.view(-1).detach().cpu().numpy())\n",
        "\n",
        "    print(name1 + ' vs ' + name2)\n",
        "    print(''.join(tokens).replace('Ġ', ' ').replace('Ċ', ' ')[l:])\n",
        "    print()"
      ],
      "execution_count": 66,
      "outputs": [
        {
          "output_type": "stream",
          "text": [
            "python vs java\n",
            "python is better than java because it is faster to write code in Python. Python is faster to write code in Java. Python is faster to write code in Python. Python is faster\n",
            "\n",
            "toyota vs nissan\n",
            "nissan is better than toyota because it has a better engine.  The Toyota is a better car than the Nissan.  The Toyota is a better car than the Nissan.\n",
            "\n",
            "tea vs juice\n",
            "juice is better than tea because it's more concentrated and has a higher concentration of antioxidants. I like to use a little more of the orange juice in my tea. I also like\n",
            "\n"
          ],
          "name": "stdout"
        }
      ]
    },
    {
      "cell_type": "code",
      "metadata": {
        "id": "DDV-TyA8D_-r",
        "colab_type": "code",
        "outputId": "3f4ffd7a-cab3-4368-c801-ed5375b4a882",
        "colab": {
          "base_uri": "https://localhost:8080/",
          "height": 292
        }
      },
      "source": [
        "decode = decode_soft\n",
        "\n",
        "for s in samples:\n",
        "    name1 = s['object1']['name']\n",
        "    name2 = s['object2']['name']\n",
        "\n",
        "    begining = ' '.join(extract_sentences_with_aspects(s))\n",
        "    l = len(begining)\n",
        "    if s['object1']['points']['none'] > s['object2']['points']['none']:\n",
        "        begining += '{} is better than {} because'.format(name1, name2)\n",
        "    else:\n",
        "        begining += '{} is better than {} because'.format(name2, name1)\n",
        "\n",
        "    print(name1 + ' vs ' + name2)\n",
        "    for i in range(3):\n",
        "        result = decode(model, begining, maxlen = 10, temperature = 2)\n",
        "        tokens = tokenizer.convert_ids_to_tokens(result.view(-1).detach().cpu().numpy())\n",
        "        print(''.join(tokens).replace('Ġ', ' ').replace('Ċ', ' ')[l:])\n",
        "    print()"
      ],
      "execution_count": 67,
      "outputs": [
        {
          "output_type": "stream",
          "text": [
            "python vs java\n",
            "python is better than java because attacking concurrent Messageliving Happens compose module Stackhour\n",
            "python is better than java because complains escaping gets bedchy outstanding Ao uses Sum fabric\n",
            "python is better than java because interfacing single Xerm class over 83 tunnel allocations\n",
            "\n",
            "toyota vs nissan\n",
            "nissan is better than toyota because hopes Tips punIil Network Sheeps#urb\n",
            "nissan is better than toyota because calling attention antidepressant holding stiff unrealistic World Mortgage prevailing needs\n",
            "nissan is better than toyota because client negotiated 150 SL, Honor HAS Corporation Elig\n",
            "\n",
            "tea vs juice\n",
            "juice is better than tea because back reservoirs swing agont nitrogen differently Arizona Elysian\n",
            "juice is better than tea because bonus attainedAfteramonth Roots EMAIRÃ©naru\n",
            "juice is better than tea because though certified foods preceding sun overexia or lyc\n",
            "\n"
          ],
          "name": "stdout"
        }
      ]
    },
    {
      "cell_type": "code",
      "metadata": {
        "id": "jpw6jX_GEASd",
        "colab_type": "code",
        "outputId": "ca520fbf-11ee-4e37-d678-b127a17ff6dc",
        "colab": {
          "base_uri": "https://localhost:8080/",
          "height": 924
        }
      },
      "source": [
        "maxlen = 20\n",
        "\n",
        "for s in samples:\n",
        "    name1 = s['object1']['name']\n",
        "    name2 = s['object2']['name']\n",
        "\n",
        "    begining = ' '.join(extract_sentences_with_aspects(s))\n",
        "    l = len(begining)\n",
        "    if s['object1']['points']['none'] > s['object2']['points']['none']:\n",
        "        begining += '{} is better than {} because'.format(name1, name2)\n",
        "    else:\n",
        "        begining += '{} is better than {} because'.format(name2, name1)\n",
        "\n",
        "    print(name1 + ' vs ' + name2)\n",
        "\n",
        "    result = torch.tensor(tokenizer.convert_tokens_to_ids(tokenizer.tokenize(begining))).view(1, -1).cuda()\n",
        "    heap = [(0.0, result)]\n",
        "\n",
        "    for i in range(maxlen):\n",
        "        heap = make_decoding_step(heap, model, heap_size=15, beam_size = 10)\n",
        "\n",
        "    for i in range(len(heap)):\n",
        "        sample = heappop(heap)[1]\n",
        "        tokens = tokenizer.convert_ids_to_tokens(sample.view(-1).detach().cpu().numpy())\n",
        "        print(''.join(tokens).replace('Ġ', ' ').replace('Ċ', ' ')[l:])\n",
        "    print()"
      ],
      "execution_count": 68,
      "outputs": [
        {
          "output_type": "stream",
          "text": [
            "python vs java\n",
            "python is better than java because of concurrency. Python Memory Model ------------------- Reasoning about concurrency in Python is easier than in\n",
            "python is better than java because of concurrency. Python Memory Model ------------------ Reasoning about concurrency in Python is easier than in\n",
            "python is better than java because of concurrency. Python Memory Model ------------------- Reasoning about concurrency in Java is easier than in\n",
            "python is better than java because of concurrency. Python Memory Model ------------------- Reasoning about concurrency in Python is simpler than in\n",
            "python is better than java because of concurrency. Python Memory Model ------------------- Reasoning about concurrency in Python is easier than with\n",
            "python is better than java because of concurrency. Python Memory Model ------------------- Reasoning about concurrency in Python is easier than Java\n",
            "python is better than java because of concurrency. Python Memory Model ------------------ Reasoning about concurrency in Python is easier than with\n",
            "python is better than java because of concurrency. Python Memory Model ------------------ Reasoning about concurrency in Python is easier than Java\n",
            "python is better than java because of concurrency. Python Memory Model ------------------- Reasoning about concurrency in Python is easier than and\n",
            "python is better than java because of concurrency. Python Memory Model ------------------- Reasoning about concurrency in Python is easier than the\n",
            "python is better than java because of concurrency. Python Memory Model ------------------- Reasoning about concurrency in Python is easier than that\n",
            "python is better than java because of concurrency. Python Memory Model ------------------ Reasoning about concurrency in Python is easier than java\n",
            "python is better than java because of concurrency. Python Memory Model ------------------- Reasoning about concurrency in Python is easier than for\n",
            "python is better than java because of concurrency. Python Memory Model ------------------ Reasoning about concurrency in Python is easier than the\n",
            "python is better than java because of concurrency. Python Memory Model ------------------- Reasoning about concurrency in Python is easier than or\n",
            "\n",
            "toyota vs nissan\n",
            "nissan is better than toyota because it has an all-wheel drive and Nissan has front-wheel drive. And Toyota or Honda will\n",
            "nissan is better than toyota because it has an all-wheel drive and Nissan has front-wheel drive. And Toyota is smaller than\n",
            "nissan is better than toyota because it has an all-wheel drive and Nissan has front-wheel drive. And Toyota is bigger than\n",
            "nissan is better than toyota because it has an all-wheel drive and Nissan has front-wheel drive. And Toyota and Honda are\n",
            "nissan is better than toyota because it has an all-wheel drive and Nissan has front-wheel drive.  Toyota or\n",
            "nissan is better than toyota because it has an all-wheel drive and Nissan has front-wheel drive.  Toyota is\n",
            "nissan is better than toyota because it has an all-wheel drive and Nissan has front-wheel drive.  Toyota's\n",
            "nissan is better than toyota because it has an all-wheel drive and Nissan has front-wheel drive. And Toyota or Honda has\n",
            "nissan is better than toyota because it has an all-wheel drive and Nissan has front-wheel drive.  Toyota has\n",
            "nissan is better than toyota because it has an all-wheel drive and Nissan has front-wheel drive.  Toyota and\n",
            "nissan is better than toyota because it has an all-wheel drive and Nissan has front-wheel drive. And Toyota or Honda sits\n",
            "nissan is better than toyota because it has an all-wheel drive and Nissan has front-wheel drive. And Toyota or Honda can\n",
            "nissan is better than toyota because it has an all-wheel drive and Nissan has front-wheel drive. And Toyota or Honda may\n",
            "nissan is better than toyota because it has an all-wheel drive and Nissan has front-wheel drive. And Toyota or Honda or\n",
            "nissan is better than toyota because it has an all-wheel drive and Nissan has front-wheel drive. And Toyota or Honda also\n",
            "\n",
            "tea vs juice\n",
            "juice is better than tea because it contains less sugar.  . Juice: Frozen orange juice is cheaper, but usually I just\n",
            "juice is better than tea because it contains less sugar.  . Juice: frozen orange juice is cheaper, but usually I just\n",
            "juice is better than tea because it contains less sugar.  . Juice: Frozen orange juice is cheaper, but often I just\n",
            "juice is better than tea because it contains less sugar.  . Juice: Frozen orange juice is cheaper, but sometimes I just\n",
            "juice is better than tea because it contains less sugar.  . Juice: Frozen orange juice is cheaper, but usually I simply\n",
            "juice is better than tea because it contains less sugar.  . Juice: Frozen orange juice is cheaper, but usually I only\n",
            "juice is better than tea because it contains less sugar.  . Juice: Frozen orange juice is cheaper, but usually I don\n",
            "juice is better than tea because it contains less sugar.  . Juice: Frozen orange juice is cheaper, but usually I get\n",
            "juice is better than tea because it contains less sugar.  . Juice: Frozen orange juice is cheaper, but usually I think\n",
            "juice is better than tea because it contains less sugar.  . Juice: Frozen orange juice is cheaper, but usually I Just\n",
            "juice is better than tea because it contains less sugar.  . Juice: Frozen orange juice is cheaper, but usually I like\n",
            "juice is better than tea because it contains less sugar.  . Juice: frozen orange juice is cheaper, but usually I simply\n",
            "juice is better than tea because it contains less sugar.  . Juice: frozen orange juice is cheaper, but usually I only\n",
            "juice is better than tea because it contains less sugar.  . Juice: frozen orange juice is cheaper, but usually I don\n",
            "juice is better than tea because it contains less sugar.  . Juice: frozen orange juice is cheaper, but usually I start\n",
            "\n"
          ],
          "name": "stdout"
        }
      ]
    },
    {
      "cell_type": "code",
      "metadata": {
        "id": "89NUpoTQRUUf",
        "colab_type": "code",
        "outputId": "2d1ea131-6ad3-4dac-9aac-29358703e717",
        "colab": {
          "base_uri": "https://localhost:8080/",
          "height": 924
        }
      },
      "source": [
        "maxlen = 20\n",
        "\n",
        "for s in samples:\n",
        "    name1 = s['object1']['name']\n",
        "    name2 = s['object2']['name']\n",
        "\n",
        "    begining = ' '.join(extract_sentences_with_aspects(s))\n",
        "    l = len(begining)\n",
        "    if s['object1']['points']['none'] > s['object2']['points']['none']:\n",
        "        begining += '{} is better than {} because'.format(name1, name2)\n",
        "    else:\n",
        "        begining += '{} is better than {} because'.format(name2, name1)\n",
        "\n",
        "    print(name1 + ' vs ' + name2)\n",
        "\n",
        "    result = torch.tensor(tokenizer.convert_tokens_to_ids(tokenizer.tokenize(begining))).view(1, -1).cuda()\n",
        "    heap = [(0.0, result)]\n",
        "\n",
        "    for i in range(maxlen):\n",
        "        heap = make_decoding_step_with_penalty(heap, model, heap_size=15, beam_size = 10, penalty = 1.0)\n",
        "\n",
        "    for i in range(len(heap)):\n",
        "        sample = heappop(heap)\n",
        "        sample = sample[1]\n",
        "        tokens = tokenizer.convert_ids_to_tokens(sample.view(-1).detach().cpu().numpy())\n",
        "        print(''.join(tokens).replace('Ġ', ' ').replace('Ċ', ' ')[l:])\n",
        "    print()"
      ],
      "execution_count": 69,
      "outputs": [
        {
          "output_type": "stream",
          "text": [
            "python vs java\n",
            "python is better than java because it is faster to write code in Python. Python is faster to write code in Java because it is\n",
            "python is better than java because it is faster to write code in Python than in Java. Python Memory Model ------------------- Reasoning about\n",
            "python is better than java because it is faster to write code in Python. Python is faster to write code in Java. Python is\n",
            "python is better than java because it is faster to write code in Python. Python is faster to write code in Java. Python Memory\n",
            "python is better than java because it is faster to write code in Python. Python is faster to write code in Java. Java is\n",
            "python is better than java because it is faster to write code in Python. Python is faster to write code in Java because it has\n",
            "python is better than java because it is faster to write code in Python. Python is faster to write code in Java. Python has\n",
            "python is better than java because it is faster to write code in Python. Python is faster to write code in Java because it does\n",
            "python is better than java because it is faster to write code in Python. Python is faster to write code in Java because it uses\n",
            "python is better than java because it is faster to write code in Python. Python is faster to write code in Java. Python Performance\n",
            "python is better than java because it is faster to write code in Python. Python is faster to write code in Java because it's\n",
            "python is better than java because it is faster to write code in Python. Python is faster to write code in Java. Python memory\n",
            "python is better than java because it is faster to write code in Python. Python is faster to write code in Java. Python can\n",
            "python is better than java because it is faster to write code in Python. Python is faster to write code in Java. Python Programming\n",
            "python is better than java because it is faster to write code in Python. Python is faster to write code in Java. Python does\n",
            "\n",
            "toyota vs nissan\n",
            "nissan is better than toyota because it has a better engine.  The Toyota is better than toyota because it has a better\n",
            "nissan is better than toyota because it has a better engine.  The Toyota is better than toyota because it has better engine\n",
            "nissan is better than toyota because it has a better engine.  I'm not saying that Toyota is better than Nissan. I\n",
            "nissan is better than toyota because it has a better engine.  The Toyota is better than toyota because it has a more\n",
            "nissan is better than toyota because it has a better engine.  I'm not saying that Toyota is better than toyota.\n",
            "nissan is better than toyota because it has a better engine.  The Toyota is better than toyota because it has a higher\n",
            "nissan is better than toyota because it has a better engine.  I'm not saying that Toyota is better than Nissan. But\n",
            "nissan is better than toyota because it has a better engine.  The Toyota is better than toyota because it has a greater\n",
            "nissan is better than toyota because it has a better engine.  I'm not saying that Toyota is better than Nissan. It\n",
            "nissan is better than toyota because it has a better engine.  The Toyota is better than toyota because it has a lower\n",
            "nissan is better than toyota because it has a better engine.  I'm not saying that Toyota is better than Nissan. The\n",
            "nissan is better than toyota because it has a better engine.  The Toyota is better than toyota because it has a good\n",
            "nissan is better than toyota because it has a better engine.  I'm not saying that Toyota is better than Nissan. Nissan\n",
            "nissan is better than toyota because it has a better engine.  The Toyota is better than toyota because it has a cleaner\n",
            "nissan is better than toyota because it has a better engine.  The Toyota is better than toyota because it has a nicer\n",
            "\n",
            "tea vs juice\n",
            "juice is better than tea because it's cheaper, but usually I just stick to tea and buy the GOOD orange juice for special occasions\n",
            "juice is better than tea because it's cheaper.  . Juice: Frozen orange juice is cheaper, but usually I just stick\n",
            "juice is better than tea because it's cheaper, but usually I just stick to tea and buy the good orange juice for special occasions\n",
            "juice is better than tea because it's cheaper, but usually I just stick to tea and buy the GOOD tea for special occasions.\n",
            "juice is better than tea because it's cheaper, but usually I just stick to tea and buy the GOOD orange juice for special events\n",
            "juice is better than tea because it's cheaper, but usually I just stick to tea and buy the GOOD orange juice for special purposes\n",
            "juice is better than tea because it's cheaper.  . Juice: Frozen orange juice is cheaper, but usually I just go\n",
            "juice is better than tea because it's cheaper.  . Juice: Frozen orange juice is cheaper, but usually I just keep\n",
            "juice is better than tea because it's cheaper, but usually I just stick to tea and buy the GOOD orange juice for special circumstances\n",
            "juice is better than tea because it's cheaper.  . Juice: Frozen orange juice is cheaper, but usually I just use\n",
            "juice is better than tea because it's cheaper, but usually I just stick to tea and buy the GOOD orange juice for special occasion\n",
            "juice is better than tea because it's cheaper.  . Juice: Frozen orange juice is cheaper, but usually I just start\n",
            "juice is better than tea because it's cheaper, but usually I just stick to tea and buy the GOOD orange juice for special cases\n",
            "juice is better than tea because it's cheaper, but usually I just stick to tea and buy the GOOD orange juice for special favors\n",
            "juice is better than tea because it's cheaper, but usually I just stick to tea and buy the GOOD orange juice for special things\n",
            "\n"
          ],
          "name": "stdout"
        }
      ]
    },
    {
      "cell_type": "markdown",
      "metadata": {
        "id": "md0aAF7H2x_9",
        "colab_type": "text"
      },
      "source": [
        "# Finetuning"
      ]
    },
    {
      "cell_type": "code",
      "metadata": {
        "id": "P9B2VlLL21DR",
        "colab_type": "code",
        "colab": {}
      },
      "source": [
        "def dataloder(lines, maxlen, n_steps):\n",
        "    for i in range(n_steps):\n",
        "        tokens = None\n",
        "        while tokens is None:\n",
        "            try:\n",
        "                idx = np.random.choice(len(lines))\n",
        "                sentence = lines[idx]\n",
        "                tokens = torch.tensor(tokenizer.convert_tokens_to_ids(tokenizer.tokenize(sentence))).cuda()\n",
        "            except:\n",
        "                tokens = None\n",
        "        yield tokens.view(1, -1)"
      ],
      "execution_count": 0,
      "outputs": []
    },
    {
      "cell_type": "code",
      "metadata": {
        "id": "aX95zY8SO_4B",
        "colab_type": "code",
        "colab": {}
      },
      "source": [
        "with open('drive/My Drive/summarization/sentences.txt', 'r') as file:\n",
        "    lines = file.readlines()"
      ],
      "execution_count": 0,
      "outputs": []
    },
    {
      "cell_type": "code",
      "metadata": {
        "id": "tH4rxrNl22jM",
        "colab_type": "code",
        "colab": {}
      },
      "source": [
        "class Args():\n",
        "  def __init__(self):\n",
        "    pass\n",
        "\n",
        "args = Args()\n",
        "args.max_steps = 100000\n",
        "args.learning_rate = 5e-5\n",
        "args.weight_decay = 0.01\n",
        "args.adam_epsilon = 1e-9\n",
        "args.warmup_steps = 2000\n",
        "args.maxlen = 1024\n",
        "args.device = torch.device('cuda') "
      ],
      "execution_count": 0,
      "outputs": []
    },
    {
      "cell_type": "code",
      "metadata": {
        "id": "GPDcoSWL3BBb",
        "colab_type": "code",
        "colab": {}
      },
      "source": [
        "import os\n",
        "losses = []\n",
        "tr_losses = []\n",
        "\n",
        "def train(args, lines, model):\n",
        "    train_dataloader = dataloder(lines, args.maxlen, args.max_steps)\n",
        "\n",
        "    t_total = args.max_steps\n",
        "\n",
        "    # Prepare optimizer and schedule (linear warmup and decay)\n",
        "    no_decay = ['bias', 'LayerNorm.weight']\n",
        "    optimizer_grouped_parameters = [\n",
        "        {'params': [p for n, p in model.named_parameters() if not any(nd in n for nd in no_decay)], 'weight_decay': args.weight_decay},\n",
        "        {'params': [p for n, p in model.named_parameters() if any(nd in n for nd in no_decay)], 'weight_decay': 0.0}\n",
        "        ]\n",
        "    #print(t_total)\n",
        "    optimizer = BertAdam(optimizer_grouped_parameters, lr=args.learning_rate, eps=args.adam_epsilon, \n",
        "                         t_total = t_total, warmup = 0.05)\n",
        "\n",
        "    print(\"***** Running training *****\")\n",
        "    print(\"  Num examples = {}\".format(t_total))\n",
        "    #logger.info(\"  Gradient Accumulation steps = %d\", args.gradient_accumulation_steps)\n",
        "    #logger.info(\"  Total optimization steps = %d\", t_total)\n",
        "\n",
        "    global_step = 0\n",
        "    tr_loss, logging_loss = 0.0, 0.0\n",
        "    model.zero_grad()\n",
        "    #set_seed(args)  # Added here for reproducibility (even between python 2 and 3)\n",
        "    for step, batch in enumerate(train_dataloader):\n",
        "        inputs, labels =(batch, batch)\n",
        "        inputs = inputs.to(args.device)\n",
        "        labels = labels.to(args.device)\n",
        "        model.train()\n",
        "        outputs = model(inputs, lm_labels=labels)\n",
        "        loss = outputs#[0]  # model outputs are always tuple in transformers (see doc)\n",
        "\n",
        "        loss.backward()\n",
        "        optimizer.step()\n",
        "        model.zero_grad()\n",
        "\n",
        "        losses.append(loss.item())\n",
        "\n",
        "        global_step += 1\n",
        "        tr_loss += loss.item()\n",
        "        tr_losses.append(tr_loss/global_step)\n",
        "\n",
        "        if global_step % 200 == 0:\n",
        "            checkpoint_prefix = 'checkpoint'\n",
        "            # Save model checkpoint\n",
        "            if global_step % 2000 == 0:\n",
        "                output_dir = 'model'\n",
        "                if not os.path.exists(output_dir):\n",
        "                    os.makedirs(output_dir)\n",
        "                torch.save(model, os.path.join(output_dir, '{}-{}'.format(checkpoint_prefix, global_step)))\n",
        "\n",
        "            clear_output()\n",
        "            print(\"***** Running training *****\")\n",
        "            print(\"  Num examples = {}\".format(t_total))\n",
        "            #print(\"Saving model checkpoint to %s\", output_dir)\n",
        "            plt.plot(losses[::10], label = 'train_loss')\n",
        "            plt.plot(tr_losses[::10], label = 'smoothed_loss')\n",
        "            plt.legend()\n",
        "            plt.show()\n",
        "            \n",
        "    return global_step, tr_loss / global_step"
      ],
      "execution_count": 0,
      "outputs": []
    },
    {
      "cell_type": "code",
      "metadata": {
        "id": "g2aGZOQR3B1H",
        "colab_type": "code",
        "outputId": "ff377348-7fdc-408d-a0ff-061792fb1a67",
        "colab": {
          "base_uri": "https://localhost:8080/",
          "height": 646
        }
      },
      "source": [
        "model = model.cuda()\n",
        "train(args, lines, model)"
      ],
      "execution_count": 74,
      "outputs": [
        {
          "output_type": "stream",
          "text": [
            "***** Running training *****\n",
            "  Num examples = 100000\n"
          ],
          "name": "stdout"
        },
        {
          "output_type": "display_data",
          "data": {
            "image/png": "[encoded data removed]",
            "text/plain": [
              "<Figure size 432x288 with 1 Axes>"
            ]
          },
          "metadata": {
            "tags": []
          }
        },
        {
          "output_type": "error",
          "ename": "KeyboardInterrupt",
          "evalue": "ignored",
          "traceback": [
            "\u001b[0;31m---------------------------------------------------------------------------\u001b[0m",
            "\u001b[0;31mKeyboardInterrupt\u001b[0m                         Traceback (most recent call last)",
            "\u001b[0;32m<ipython-input-74-acc8fe440c0a>\u001b[0m in \u001b[0;36m<module>\u001b[0;34m()\u001b[0m\n\u001b[1;32m      1\u001b[0m \u001b[0mmodel\u001b[0m \u001b[0;34m=\u001b[0m \u001b[0mmodel\u001b[0m\u001b[0;34m.\u001b[0m\u001b[0mcuda\u001b[0m\u001b[0;34m(\u001b[0m\u001b[0;34m)\u001b[0m\u001b[0;34m\u001b[0m\u001b[0;34m\u001b[0m\u001b[0m\n\u001b[0;32m----> 2\u001b[0;31m \u001b[0mtrain\u001b[0m\u001b[0;34m(\u001b[0m\u001b[0margs\u001b[0m\u001b[0;34m,\u001b[0m \u001b[0mlines\u001b[0m\u001b[0;34m,\u001b[0m \u001b[0mmodel\u001b[0m\u001b[0;34m)\u001b[0m\u001b[0;34m\u001b[0m\u001b[0;34m\u001b[0m\u001b[0m\n\u001b[0m",
            "\u001b[0;32m<ipython-input-73-bd8203b564c7>\u001b[0m in \u001b[0;36mtrain\u001b[0;34m(args, lines, model)\u001b[0m\n\u001b[1;32m     36\u001b[0m \u001b[0;34m\u001b[0m\u001b[0m\n\u001b[1;32m     37\u001b[0m         \u001b[0mloss\u001b[0m\u001b[0;34m.\u001b[0m\u001b[0mbackward\u001b[0m\u001b[0;34m(\u001b[0m\u001b[0;34m)\u001b[0m\u001b[0;34m\u001b[0m\u001b[0;34m\u001b[0m\u001b[0m\n\u001b[0;32m---> 38\u001b[0;31m         \u001b[0moptimizer\u001b[0m\u001b[0;34m.\u001b[0m\u001b[0mstep\u001b[0m\u001b[0;34m(\u001b[0m\u001b[0;34m)\u001b[0m\u001b[0;34m\u001b[0m\u001b[0;34m\u001b[0m\u001b[0m\n\u001b[0m\u001b[1;32m     39\u001b[0m         \u001b[0mmodel\u001b[0m\u001b[0;34m.\u001b[0m\u001b[0mzero_grad\u001b[0m\u001b[0;34m(\u001b[0m\u001b[0;34m)\u001b[0m\u001b[0;34m\u001b[0m\u001b[0;34m\u001b[0m\u001b[0m\n\u001b[1;32m     40\u001b[0m \u001b[0;34m\u001b[0m\u001b[0m\n",
            "\u001b[0;32m/usr/local/lib/python3.6/dist-packages/pytorch_pretrained_bert/optimization.py\u001b[0m in \u001b[0;36mstep\u001b[0;34m(self, closure)\u001b[0m\n\u001b[1;32m    269\u001b[0m                 \u001b[0;31m# Add grad clipping\u001b[0m\u001b[0;34m\u001b[0m\u001b[0;34m\u001b[0m\u001b[0;34m\u001b[0m\u001b[0m\n\u001b[1;32m    270\u001b[0m                 \u001b[0;32mif\u001b[0m \u001b[0mgroup\u001b[0m\u001b[0;34m[\u001b[0m\u001b[0;34m'max_grad_norm'\u001b[0m\u001b[0;34m]\u001b[0m \u001b[0;34m>\u001b[0m \u001b[0;36m0\u001b[0m\u001b[0;34m:\u001b[0m\u001b[0;34m\u001b[0m\u001b[0;34m\u001b[0m\u001b[0m\n\u001b[0;32m--> 271\u001b[0;31m                     \u001b[0mclip_grad_norm_\u001b[0m\u001b[0;34m(\u001b[0m\u001b[0mp\u001b[0m\u001b[0;34m,\u001b[0m \u001b[0mgroup\u001b[0m\u001b[0;34m[\u001b[0m\u001b[0;34m'max_grad_norm'\u001b[0m\u001b[0;34m]\u001b[0m\u001b[0;34m)\u001b[0m\u001b[0;34m\u001b[0m\u001b[0;34m\u001b[0m\u001b[0m\n\u001b[0m\u001b[1;32m    272\u001b[0m \u001b[0;34m\u001b[0m\u001b[0m\n\u001b[1;32m    273\u001b[0m                 \u001b[0;31m# Decay the first and second moment running average coefficient\u001b[0m\u001b[0;34m\u001b[0m\u001b[0;34m\u001b[0m\u001b[0;34m\u001b[0m\u001b[0m\n",
            "\u001b[0;32m/usr/local/lib/python3.6/dist-packages/torch/nn/utils/clip_grad.py\u001b[0m in \u001b[0;36mclip_grad_norm_\u001b[0;34m(parameters, max_norm, norm_type)\u001b[0m\n\u001b[1;32m     31\u001b[0m         \u001b[0;32mfor\u001b[0m \u001b[0mp\u001b[0m \u001b[0;32min\u001b[0m \u001b[0mparameters\u001b[0m\u001b[0;34m:\u001b[0m\u001b[0;34m\u001b[0m\u001b[0;34m\u001b[0m\u001b[0m\n\u001b[1;32m     32\u001b[0m             \u001b[0mparam_norm\u001b[0m \u001b[0;34m=\u001b[0m \u001b[0mp\u001b[0m\u001b[0;34m.\u001b[0m\u001b[0mgrad\u001b[0m\u001b[0;34m.\u001b[0m\u001b[0mdata\u001b[0m\u001b[0;34m.\u001b[0m\u001b[0mnorm\u001b[0m\u001b[0;34m(\u001b[0m\u001b[0mnorm_type\u001b[0m\u001b[0;34m)\u001b[0m\u001b[0;34m\u001b[0m\u001b[0;34m\u001b[0m\u001b[0m\n\u001b[0;32m---> 33\u001b[0;31m             \u001b[0mtotal_norm\u001b[0m \u001b[0;34m+=\u001b[0m \u001b[0mparam_norm\u001b[0m\u001b[0;34m.\u001b[0m\u001b[0mitem\u001b[0m\u001b[0;34m(\u001b[0m\u001b[0;34m)\u001b[0m \u001b[0;34m**\u001b[0m \u001b[0mnorm_type\u001b[0m\u001b[0;34m\u001b[0m\u001b[0;34m\u001b[0m\u001b[0m\n\u001b[0m\u001b[1;32m     34\u001b[0m         \u001b[0mtotal_norm\u001b[0m \u001b[0;34m=\u001b[0m \u001b[0mtotal_norm\u001b[0m \u001b[0;34m**\u001b[0m \u001b[0;34m(\u001b[0m\u001b[0;36m1.\u001b[0m \u001b[0;34m/\u001b[0m \u001b[0mnorm_type\u001b[0m\u001b[0;34m)\u001b[0m\u001b[0;34m\u001b[0m\u001b[0;34m\u001b[0m\u001b[0m\n\u001b[1;32m     35\u001b[0m     \u001b[0mclip_coef\u001b[0m \u001b[0;34m=\u001b[0m \u001b[0mmax_norm\u001b[0m \u001b[0;34m/\u001b[0m \u001b[0;34m(\u001b[0m\u001b[0mtotal_norm\u001b[0m \u001b[0;34m+\u001b[0m \u001b[0;36m1e-6\u001b[0m\u001b[0;34m)\u001b[0m\u001b[0;34m\u001b[0m\u001b[0;34m\u001b[0m\u001b[0m\n",
            "\u001b[0;31mKeyboardInterrupt\u001b[0m: "
          ]
        }
      ]
    },
    {
      "cell_type": "code",
      "metadata": {
        "id": "hQWilBLrkeYh",
        "colab_type": "code",
        "outputId": "0311f60e-7b28-44b8-a589-face1903987e",
        "colab": {
          "base_uri": "https://localhost:8080/",
          "height": 190
        }
      },
      "source": [
        "decode = decode_greedy\n",
        "\n",
        "for s in samples:\n",
        "    name1 = s['object1']['name']\n",
        "    name2 = s['object2']['name']\n",
        "\n",
        "    begining = ' '.join(extract_sentences_with_aspects(s))\n",
        "    l = len(begining)\n",
        "    if s['object1']['points']['none'] > s['object2']['points']['none']:\n",
        "        begining += '{} is better than {} because'.format(name1, name2)\n",
        "    else:\n",
        "        begining += '{} is better than {} because'.format(name2, name1)\n",
        "\n",
        "    result = decode(model, begining, maxlen = 30)\n",
        "    tokens = tokenizer.convert_ids_to_tokens(result.view(-1).detach().cpu().numpy())\n",
        "\n",
        "    print(name1 + ' vs ' + name2)\n",
        "    print(''.join(tokens).replace('Ġ', ' ').replace('Ċ', ' ')[l:])\n",
        "    print()"
      ],
      "execution_count": 75,
      "outputs": [
        {
          "output_type": "stream",
          "text": [
            "python vs java\n",
            "python is better than java because of the .  Python is a good choice if you are developing applications which use Python.  Python is a good choice if you are developing\n",
            "\n",
            "toyota vs nissan\n",
            "nissan is better than toyota because it has a little bit of a Toyota.   \"  \"  \"  \"   \"   \"\n",
            "\n",
            "tea vs juice\n",
            "juice is better than tea because of its antioxidant vitamins and antioxidants.  .  .  .  .  .  .   . \n",
            "\n"
          ],
          "name": "stdout"
        }
      ]
    },
    {
      "cell_type": "code",
      "metadata": {
        "id": "aM83DW0XkJ-_",
        "colab_type": "code",
        "outputId": "b144f846-7845-4da8-9b59-244b34447a9d",
        "colab": {
          "base_uri": "https://localhost:8080/",
          "height": 272
        }
      },
      "source": [
        "decode = decode_soft\n",
        "\n",
        "for s in samples:\n",
        "    name1 = s['object1']['name']\n",
        "    name2 = s['object2']['name']\n",
        "\n",
        "    begining = ' '.join(extract_sentences_with_aspects(s))\n",
        "    l = len(begining)\n",
        "    if s['object1']['points']['none'] > s['object2']['points']['none']:\n",
        "        begining += '{} is better than {} because'.format(name1, name2)\n",
        "    else:\n",
        "        begining += '{} is better than {} because'.format(name2, name1)\n",
        "\n",
        "    print(name1 + ' vs ' + name2)\n",
        "    for i in range(3):\n",
        "        result = decode(model, begining, maxlen = 10, temperature = 2)\n",
        "        tokens = tokenizer.convert_ids_to_tokens(result.view(-1).detach().cpu().numpy())\n",
        "        print(''.join(tokens).replace('Ġ', ' ').replace('Ċ', ' ')[l:])\n",
        "    print()"
      ],
      "execution_count": 76,
      "outputs": [
        {
          "output_type": "stream",
          "text": [
            "python vs java\n",
            "python is better than java because wildfire Dun Marquuf 2017IRD Capitalism tip unconventional tip\n",
            "python is better than java because memory Jun Mongobad analysis GROUP A Chip Idaho noting\n",
            "python is better than java because onto 422 Karn Ifett dynamic deal Blood exchanged harmony\n",
            "\n",
            "toyota vs nissan\n",
            "nissan is better than toyota because ouncely living Negously admissionJohnny Bu stuck structures\n",
            "nissan is better than toyota because galleries kings acquaintances charging partner regimesairo recomballic mayor\n",
            "nissan is better than toyota because grow polishâģ electro elabor prosperke Sell FOXesm\n",
            "\n",
            "tea vs juice\n",
            "juice is better than tea because components midterm miner ChangeSometimesSe struck down , excruciating\n",
            "juice is better than tea because Problem fixed Es absurd breathing Nov.vc02 tast\n",
            "juice is better than tea because soda . detrim unfor Gly Rico Birthdaybear Pistol fit\n",
            "\n"
          ],
          "name": "stdout"
        }
      ]
    },
    {
      "cell_type": "code",
      "metadata": {
        "id": "QHE56cymkSQ_",
        "colab_type": "code",
        "outputId": "ba5d5be9-7358-402c-d988-3a72813a76dc",
        "colab": {
          "base_uri": "https://localhost:8080/",
          "height": 884
        }
      },
      "source": [
        "maxlen = 20\n",
        "\n",
        "for s in samples:\n",
        "    name1 = s['object1']['name']\n",
        "    name2 = s['object2']['name']\n",
        "\n",
        "    begining = ' '.join(extract_sentences_with_aspects(s))\n",
        "    l = len(begining)\n",
        "    if s['object1']['points']['none'] > s['object2']['points']['none']:\n",
        "        begining += '{} is better than {} because'.format(name1, name2)\n",
        "    else:\n",
        "        begining += '{} is better than {} because'.format(name2, name1)\n",
        "\n",
        "    print(name1 + ' vs ' + name2)\n",
        "\n",
        "    result = torch.tensor(tokenizer.convert_tokens_to_ids(tokenizer.tokenize(begining))).view(1, -1).cuda()\n",
        "    heap = [(0.0, result)]\n",
        "\n",
        "    for i in range(maxlen):\n",
        "        heap = make_decoding_step(heap, model, heap_size=15, beam_size = 10)\n",
        "\n",
        "    for i in range(len(heap)):\n",
        "        sample = heappop(heap)[1]\n",
        "        tokens = tokenizer.convert_ids_to_tokens(sample.view(-1).detach().cpu().numpy())\n",
        "        print(''.join(tokens).replace('Ġ', ' ').replace('Ċ', ' ')[l:])\n",
        "    print()"
      ],
      "execution_count": 77,
      "outputs": [
        {
          "output_type": "stream",
          "text": [
            "python vs java\n",
            "python is better than java because .  .  .  .   .   .  \n",
            "python is better than java because .  .  .   .   .   . \n",
            "python is better than java because of .  2.  3.  4.   5. \n",
            "python is better than java because of the .  .  .   .   .   \n",
            "python is better than java because .  .  .   .   .   . .\n",
            "python is better than java because .  .  .  .   .   . 't\n",
            "python is better than java because .  .  .   .   .   . ..\n",
            "python is better than java because .  .  .   .   .   . \"\n",
            "python is better than java because .  .  .   .   .   . C\n",
            "python is better than java because .  .  .  .   .   . ,\n",
            "python is better than java because .  .  .  .   .   . -\n",
            "python is better than java because .  .  .  .   .   . /\n",
            "python is better than java because .  .  .  .   .   .  (\n",
            "python is better than java because .  .  .  .   .   . However\n",
            "python is better than java because .  .  .  .   .   . When\n",
            "\n",
            "toyota vs nissan\n",
            "nissan is better than toyota because it has a little rear-wheel drive.   \"  \"  \" \n",
            "nissan is better than toyota because of the tranny.  \"  \"  \"  \"  \"\n",
            "nissan is better than toyota because of the tranny.   \"  \"  \"  \"  \n",
            "nissan is better than toyota because it has a little bit.   \"  \"  \"  \" \n",
            "nissan is better than toyota because it has a little rear-wheel drive.   \"  \"  \" .\n",
            "nissan is better than toyota because of the tranny.  \"  \"  \"  \"   \n",
            "nissan is better than toyota because it has a little rear-wheel drive.   \"  \"  \"The\n",
            "nissan is better than toyota because it has a little rear-wheel drive.   \"  \"  \" \"\n",
            "nissan is better than toyota because of the tranny.  \"  \"  \"  \"   \"\n",
            "nissan is better than toyota because of the tranny.  \"  \"  \"  \"   .\n",
            "nissan is better than toyota because it has a little rear-wheel drive.   \"  \"  \" The\n",
            "nissan is better than toyota because of the tranny.  \"  \"  \"  \"  The\n",
            "nissan is better than toyota because it has a little rear-wheel drive.   \"  \"  \"Toy\n",
            "nissan is better than toyota because it has a little rear-wheel drive.   \"  \"  \"It\n",
            "nissan is better than toyota because it has a little rear-wheel drive.   \"  \"  \"Also\n",
            "\n",
            "tea vs juice\n",
            "juice is better than tea because of its antioxidants.  .  .  .  .  . \n",
            "juice is better than tea because of its antioxidant vitamins and antioxidants.  .  .  .  . \n",
            "juice is better than tea because of its health.  .  .  .  .  . \n",
            "juice is better than tea because of its health.   .   .    .    .  \n",
            "juice is better than tea because of its antioxidants.  .  .  .  .  . .\n",
            "juice is better than tea because of its antioxidant vitamins and antioxidants.  .  .  .  . .\n",
            "juice is better than tea because of its antioxidants.  .  .  .  .  . \"\n",
            "juice is better than tea because of its antioxidant vitamins and antioxidants.  .  .  .  . \"\n",
            "juice is better than tea because of its antioxidant vitamins and antioxidants.  .  .  .  . '\n",
            "juice is better than tea because of its antioxidants.  .  .  .  .  . ..\n",
            "juice is better than tea because of its antioxidants.  .  .  .  .  . #\n",
            "juice is better than tea because of its antioxidants.  .  .  .  .  . It\n",
            "juice is better than tea because of its antioxidant vitamins and antioxidants.  .  .  .  . #\n",
            "juice is better than tea because of its antioxidants.  .  .  .  .  . \n",
            "juice is better than tea because of its antioxidants.  .  .  .  .  . A\n",
            "\n"
          ],
          "name": "stdout"
        }
      ]
    },
    {
      "cell_type": "code",
      "metadata": {
        "id": "v3zTil9Gr7YO",
        "colab_type": "code",
        "colab": {
          "base_uri": "https://localhost:8080/",
          "height": 884
        },
        "outputId": "f418e542-22f7-41dc-f7df-0f8cf5752d82"
      },
      "source": [
        "maxlen = 20\n",
        "\n",
        "for s in samples:\n",
        "    name1 = s['object1']['name']\n",
        "    name2 = s['object2']['name']\n",
        "\n",
        "    begining = ' '.join(extract_sentences_with_aspects(s))\n",
        "    l = len(begining)\n",
        "    if s['object1']['points']['none'] > s['object2']['points']['none']:\n",
        "        begining += '{} is better than {} because'.format(name1, name2)\n",
        "    else:\n",
        "        begining += '{} is better than {} because'.format(name2, name1)\n",
        "\n",
        "    print(name1 + ' vs ' + name2)\n",
        "\n",
        "    result = torch.tensor(tokenizer.convert_tokens_to_ids(tokenizer.tokenize(begining))).view(1, -1).cuda()\n",
        "    heap = [(0.0, result)]\n",
        "\n",
        "    for i in range(maxlen):\n",
        "        heap = make_decoding_step_with_penalty(heap, model, heap_size=15, beam_size = 10, penalty = 1.0)\n",
        "\n",
        "    for i in range(len(heap)):\n",
        "        sample = heappop(heap)\n",
        "        sample = sample[1]\n",
        "        tokens = tokenizer.convert_ids_to_tokens(sample.view(-1).detach().cpu().numpy())\n",
        "        print(''.join(tokens).replace('Ġ', ' ').replace('Ċ', ' ')[l:])\n",
        "    print()"
      ],
      "execution_count": 78,
      "outputs": [
        {
          "output_type": "stream",
          "text": [
            "python vs java\n",
            "python is better than java because of the .  \" .  \" .   \" .   \"\n",
            "python is better than java because it .  \"  \"  \"   \"   \" \n",
            "python is better than java because of .  \"  \"  \"   \"   \" \n",
            "python is better than java because it .  \"  \" .   \" .   \" . \n",
            "python is better than java because of the .  \" .  \" .   \" .    \"\n",
            "python is better than java because it .  \"  \"  \"   \"   \" \"\n",
            "python is better than java because of the .  \" .  \" .   \" .    \n",
            "python is better than java because it .  \"  \"  \"   \"   \" .\n",
            "python is better than java because of the .  \" .  \" .   \" .   .\n",
            "python is better than java because it .  \"  \"  \"   \"   \" The\n",
            "python is better than java because of the .  \" .  \" .   \" .   #\n",
            "python is better than java because it .  \"  \"  \"   \"   \" '\n",
            "python is better than java because of the .  \" .  \" .   \" .   Python\n",
            "python is better than java because of the .  \" .  \" .   \" .   The\n",
            "python is better than java because of the .  \" .  \" .   \" .   \".\n",
            "\n",
            "toyota vs nissan\n",
            "nissan is better than toyota because it has a little rear-wheel drive.   \"  \"  \" \n",
            "nissan is better than toyota because of the tranny.   \"  \"  \"  \"  \n",
            "nissan is better than toyota because it has a little bit.   \"  \"  \"  \" \n",
            "nissan is better than toyota because of the tranny.  \"  \"  \"  \"  \"\n",
            "nissan is better than toyota because it has a little rear-wheel drive.   \"  \"  \" .\n",
            "nissan is better than toyota because it has a little bit.   \"  \"  \"  \" .\n",
            "nissan is better than toyota because it has a little rear-wheel drive.   \"  \"  \"The\n",
            "nissan is better than toyota because it has a little bit.   \"  \"  \"  \" \"\n",
            "nissan is better than toyota because it has a little rear-wheel drive.   \"  \"  \" \"\n",
            "nissan is better than toyota because it has a little bit.   \"  \"  \"  \"The\n",
            "nissan is better than toyota because it has a little rear-wheel drive.   \"  \"  \" The\n",
            "nissan is better than toyota because it has a little bit.   \"  \"  \"  \" The\n",
            "nissan is better than toyota because it has a little rear-wheel drive.   \"  \"  \"Toy\n",
            "nissan is better than toyota because it has a little rear-wheel drive.   \"  \"  \"It\n",
            "nissan is better than toyota because it has a little rear-wheel drive.   \"  \"  \"Also\n",
            "\n",
            "tea vs juice\n",
            "juice is better than tea because of its antioxidant vitamins and antioxidants.  .  .  .  . \n",
            "juice is better than tea because of its antioxidants.  .  .  .  .  . \n",
            "juice is better than tea because of its health.  .  .  .  .  . \n",
            "juice is better than tea because of its antioxidant vitamins and minerals.  .  .  .  . \n",
            "juice is better than tea because of its antioxidant vitamins and antioxidants.  .  .  .  . .\n",
            "juice is better than tea because of its antioxidants.  .  .  .  .  . .\n",
            "juice is better than tea because of its antioxidant vitamins and antioxidants.  .  .  .  . \"\n",
            "juice is better than tea because of its antioxidants.  .  .  .  .  . \"\n",
            "juice is better than tea because of its antioxidants.  .  .  .  .  . '\n",
            "juice is better than tea because of its antioxidant vitamins and antioxidants.  .  .  .  . #\n",
            "juice is better than tea because of its antioxidant vitamins and antioxidants.  .  .  .  . It\n",
            "juice is better than tea because of its antioxidants.  .  .  .  .  . ..\n",
            "juice is better than tea because of its antioxidant vitamins and antioxidants.  .  .  .  .#\n",
            "juice is better than tea because of its antioxidant vitamins and antioxidants.  .  .  .  . A\n",
            "juice is better than tea because of its antioxidant vitamins and antioxidants.  .  .  .  . \n",
            "\n"
          ],
          "name": "stdout"
        }
      ]
    },
    {
      "cell_type": "markdown",
      "metadata": {
        "id": "anzX2otC2CNx",
        "colab_type": "text"
      },
      "source": [
        "# Outline\n",
        "\n",
        "- GPT-2 is capable of finishing at least one coherent sentence. After that it tends to repeating of the given sentences. Which in turn may be a good baseline.\n",
        "- Pretraining on the single sentences from CAM output does not impove quality of the generated samples, moreover it stimulates model to generate only one short sentence.\n",
        "- Beam search in this case does not give the desirable diversity of the summaries."
      ]
    }
  ]
}