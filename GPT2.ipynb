{
  "nbformat": 4,
  "nbformat_minor": 0,
  "metadata": {
    "colab": {
      "name": "GPT2.ipynb",
      "provenance": [],
      "toc_visible": true,
      "include_colab_link": true
    },
    "kernelspec": {
      "name": "python3",
      "display_name": "Python 3"
    },
    "accelerator": "GPU"
  },
  "cells": [
    {
      "cell_type": "markdown",
      "metadata": {
        "id": "view-in-github",
        "colab_type": "text"
      },
      "source": [
        "<a href=\"https://colab.research.google.com/github/lamantinushka/cam_summarisation/blob/master/GPT2.ipynb\" target=\"_parent\"><img src=\"https://colab.research.google.com/assets/colab-badge.svg\" alt=\"Open In Colab\"/></a>"
      ]
    },
    {
      "cell_type": "markdown",
      "metadata": {
        "id": "JdRvv6ZgvBg0",
        "colab_type": "text"
      },
      "source": [
        "#Introduction\n",
        "In this part of the project we investigate potential of GPT-2 architecture in unsupervised summarization task. GPT-2 is a self-attentive models consisting of sequentially stacked transformer decoders. It is a model with 1.5 billion parameters trained for language modeling task in 40GB of Internet text. \n",
        "\n",
        "Firstly we try using GPT-2 with the weights that were released. Then we finetune model on the set of all sentences from the CAM outputs and apply finetuned model.\n",
        "\n",
        "We use four techniques for decoding:\n",
        "- greedy decoding (choose the most probable token on each step)\n",
        "- soft decoding (choose token with predicted probabilities)\n",
        "- beam search (maintain heap of most probable decodings on each step)\n",
        "- **UPD** diverse beam search (penalising hypothsis that are expansions of the same parent node)\n",
        "\n",
        "In all cases we start with the phrase \"\\<object1> is better than \\<object2> because\". It is also possible to feed previous sentence to the model. But as it is shown, feeding question \"Why is \\<object1> better than \\<object2>?\" as a condition makes almost no difference in model performance."
      ]
    },
    {
      "cell_type": "markdown",
      "metadata": {
        "id": "2EhgjP2KCrTX",
        "colab_type": "text"
      },
      "source": [
        "# Loading data"
      ]
    },
    {
      "cell_type": "code",
      "metadata": {
        "id": "jHtkjswuotYB",
        "colab_type": "code",
        "colab": {}
      },
      "source": [
        "from google.colab import drive\n",
        "drive.mount('/content/drive')"
      ],
      "execution_count": 0,
      "outputs": []
    },
    {
      "cell_type": "code",
      "metadata": {
        "id": "PTIlUx7apIE9",
        "colab_type": "code",
        "colab": {}
      },
      "source": [
        "import json"
      ],
      "execution_count": 0,
      "outputs": []
    },
    {
      "cell_type": "code",
      "metadata": {
        "id": "-2ARkfn91xBq",
        "colab_type": "code",
        "colab": {}
      },
      "source": [
        "data = []\n",
        "for line in open('drive/My Drive/summarization/mined_bow_str.json', 'r'):\n",
        "    data.append(json.loads(line))"
      ],
      "execution_count": 0,
      "outputs": []
    },
    {
      "cell_type": "code",
      "metadata": {
        "id": "5rCPGBCMpin9",
        "colab_type": "code",
        "colab": {}
      },
      "source": [
        "# usefull function that extracts all supporting sentences from the CAM output\n",
        "def write_sentences(sample, sentences = None):\n",
        "    if sentences is None:\n",
        "        sentences = []\n",
        "    for s in sample['object1']['sentences']:\n",
        "        sentences.append(s['text'] + '\\n')\n",
        "    for s in sample['object2']['sentences']:\n",
        "        sentences.append(s['text'] + '\\n')\n",
        "    return sentences"
      ],
      "execution_count": 0,
      "outputs": []
    },
    {
      "cell_type": "markdown",
      "metadata": {
        "id": "OtvS2R591A7Z",
        "colab_type": "text"
      },
      "source": [
        "Let's choose some samples to compare model's performance"
      ]
    },
    {
      "cell_type": "code",
      "metadata": {
        "id": "Yi92QgUZse69",
        "colab_type": "code",
        "outputId": "3fb9e6ca-856f-4c0b-f910-e83175d8499e",
        "colab": {
          "base_uri": "https://localhost:8080/",
          "height": 68
        }
      },
      "source": [
        "samples = [data[4], data[155], data[228]]\n",
        "\n",
        "for s in samples:\n",
        "  print(s['object1']['name'] + ' vs ' + s['object2']['name'])"
      ],
      "execution_count": 5,
      "outputs": [
        {
          "output_type": "stream",
          "text": [
            "python vs java\n",
            "toyota vs nissan\n",
            "tea vs juice\n"
          ],
          "name": "stdout"
        }
      ]
    },
    {
      "cell_type": "markdown",
      "metadata": {
        "id": "2cEEkKQ5xdEt",
        "colab_type": "text"
      },
      "source": [
        "# Decoding techniques"
      ]
    },
    {
      "cell_type": "code",
      "metadata": {
        "id": "hsOg6NTmIWxO",
        "colab_type": "code",
        "colab": {}
      },
      "source": [
        "def decode_greedy(model, begining, maxlen = 20):\n",
        "    result = torch.tensor(tokenizer.convert_tokens_to_ids(tokenizer.tokenize(begining))).view(1, -1).cuda()\n",
        "    for i in range(maxlen):\n",
        "        with torch.no_grad():\n",
        "            predictions, _ = model(result)\n",
        "            pred = torch.argmax(predictions[0, -1, :]).item()\n",
        "            result = torch.cat([result, pred*torch.ones(1, 1, dtype = torch.long, device = 'cuda')], dim = -1)\n",
        "    return result"
      ],
      "execution_count": 0,
      "outputs": []
    },
    {
      "cell_type": "code",
      "metadata": {
        "id": "HCSux2fyIhD_",
        "colab_type": "code",
        "colab": {}
      },
      "source": [
        "def decode_soft(model, begining, maxlen = 20, temperature = 1.0):\n",
        "    result = torch.tensor(tokenizer.convert_tokens_to_ids(tokenizer.tokenize(begining))).view(1, -1).cuda()\n",
        "    for i in range(maxlen):\n",
        "        with torch.no_grad():\n",
        "            predictions, _ = model(result)\n",
        "            word_weights = predictions[0, -1].div(temperature).exp().cpu() \n",
        "            pred = torch.multinomial(word_weights, 1)[0].cuda()\n",
        "            result = torch.cat([result, pred*torch.ones(1, 1, dtype = torch.long, device = 'cuda')], dim = -1)\n",
        "    return result"
      ],
      "execution_count": 0,
      "outputs": []
    },
    {
      "cell_type": "code",
      "metadata": {
        "id": "WEJxj9FjIlfB",
        "colab_type": "code",
        "colab": {}
      },
      "source": [
        "from heapq import heappop, heappush\n",
        "\n",
        "#beam-search step\n",
        "def make_decoding_step(heap, gpt_model, heap_size = 10, beam_size = 3, past = None):\n",
        "    result = []\n",
        "    for node in heap:\n",
        "        n = node[1].shape[-1]\n",
        "        p = node[0]\n",
        "        with torch.no_grad():\n",
        "            if past is not None:\n",
        "                predictions, _ = model(node[1], past = past)\n",
        "            else:\n",
        "                predictions, _ = model(node[1])\n",
        "            predictions = predictions[0, -1]\n",
        "            predictions -= predictions.min()\n",
        "            probs = predictions.exp()\n",
        "            probs /= probs.sum()\n",
        "        top_p, top_i = torch.topk(probs, beam_size)\n",
        "        for i in range(beam_size):\n",
        "            mean_prob = (p*n - torch.log(top_p[i]))/(n + 1)\n",
        "            prefics = torch.cat([node[1], top_i[i]*torch.ones(1, 1, dtype = torch.long, device = 'cuda')], \n",
        "                                dim = -1)\n",
        "            heappush(result, (mean_prob, prefics))\n",
        "            result = result[:heap_size]\n",
        "    return result"
      ],
      "execution_count": 0,
      "outputs": []
    },
    {
      "cell_type": "code",
      "metadata": {
        "id": "cP45JkyzQUvt",
        "colab_type": "code",
        "colab": {}
      },
      "source": [
        "def make_decoding_step_with_penalty(heap, gpt_model, heap_size = 10, beam_size = 3, past = None, penalty = 0.1):\n",
        "    result = []\n",
        "    for node in heap:\n",
        "        n = node[1].shape[-1]\n",
        "        p = node[0]\n",
        "        with torch.no_grad():\n",
        "            if past is not None:\n",
        "                predictions, _ = model(node[1], past = past)\n",
        "            else:\n",
        "                predictions, _ = model(node[1])\n",
        "            predictions = predictions[0, -1]\n",
        "            predictions -= predictions.min()\n",
        "            probs = predictions.exp()\n",
        "            probs /= probs.sum()\n",
        "        top_p, top_i = torch.topk(probs, beam_size)\n",
        "        for i in range(beam_size):\n",
        "            score = p - torch.log(top_p[i]) + penalty * i\n",
        "            prefics = torch.cat([node[1], top_i[i]*torch.ones(1, 1, dtype = torch.long, device = 'cuda')], \n",
        "                                dim = -1)\n",
        "            heappush(result, (score, prefics))\n",
        "            result = result[:heap_size]\n",
        "    return result"
      ],
      "execution_count": 0,
      "outputs": []
    },
    {
      "cell_type": "markdown",
      "metadata": {
        "id": "ohrMUSLVDx9l",
        "colab_type": "text"
      },
      "source": [
        "#Raw GPT-2"
      ]
    },
    {
      "cell_type": "code",
      "metadata": {
        "id": "JAas6SAw1O88",
        "colab_type": "code",
        "colab": {}
      },
      "source": [
        "!pip install pytorch-pretrained-bert"
      ],
      "execution_count": 0,
      "outputs": []
    },
    {
      "cell_type": "code",
      "metadata": {
        "id": "rlsL93-81Xo2",
        "colab_type": "code",
        "colab": {}
      },
      "source": [
        "import numpy as np\n",
        "import pandas as pd\n",
        "import torch\n",
        "from pytorch_pretrained_bert import *\n",
        "from torch.nn import CrossEntropyLoss, KLDivLoss\n",
        "from tqdm import tqdm\n",
        "import matplotlib.pyplot as plt\n",
        "from IPython.display import clear_output"
      ],
      "execution_count": 0,
      "outputs": []
    },
    {
      "cell_type": "code",
      "metadata": {
        "id": "wYckWNYuDw2B",
        "colab_type": "code",
        "colab": {
          "base_uri": "https://localhost:8080/",
          "height": 85
        },
        "outputId": "a31c089d-d973-4acf-8071-3170eed77db7"
      },
      "source": [
        "model = GPT2LMHeadModel.from_pretrained('gpt2').cuda()\n",
        "tokenizer = GPT2Tokenizer.from_pretrained('gpt2')"
      ],
      "execution_count": 12,
      "outputs": [
        {
          "output_type": "stream",
          "text": [
            "100%|██████████| 548118077/548118077 [00:44<00:00, 12292254.03B/s]\n",
            "100%|██████████| 176/176 [00:00<00:00, 69608.44B/s]\n",
            "100%|██████████| 1042301/1042301 [00:01<00:00, 925541.40B/s]\n",
            "100%|██████████| 456318/456318 [00:00<00:00, 497125.70B/s]\n"
          ],
          "name": "stderr"
        }
      ]
    },
    {
      "cell_type": "code",
      "metadata": {
        "id": "GPu-wvzLZNfE",
        "colab_type": "code",
        "outputId": "2f027610-abb2-4297-a79f-71481f7cf8ab",
        "colab": {
          "base_uri": "https://localhost:8080/",
          "height": 190
        }
      },
      "source": [
        "decode = decode_greedy\n",
        "\n",
        "for s in samples:\n",
        "    name1 = s['object1']['name']\n",
        "    name2 = s['object2']['name']\n",
        "\n",
        "    if s['object1']['points']['none'] > s['object2']['points']['none']:\n",
        "        begining = '{} is better than {} because'.format(name1, name2)\n",
        "    else:\n",
        "        begining = '{} is better than {} because'.format(name2, name1)\n",
        "\n",
        "    result = decode(model, begining, maxlen = 30)\n",
        "    tokens = tokenizer.convert_ids_to_tokens(result.view(-1).detach().cpu().numpy())\n",
        "\n",
        "    print(name1 + ' vs ' + name2)\n",
        "    print(''.join(tokens).replace('Ġ', ' ').replace('Ċ', ' '))\n",
        "    print()"
      ],
      "execution_count": 0,
      "outputs": [
        {
          "output_type": "stream",
          "text": [
            "python vs java\n",
            "python is better than java because it's a bit more flexible.  The main difference between java and java-lang is that java-lang is a bit more flexible. \n",
            "\n",
            "toyota vs nissan\n",
            "nissan is better than toyota because it's a better car.  The car is a bit more expensive than the Toyota Prius, but it's still a better car than the\n",
            "\n",
            "tea vs juice\n",
            "juice is better than tea because it's more concentrated and it's more concentrated.  The best way to get the best flavor is to use a lot of water.  \n",
            "\n"
          ],
          "name": "stdout"
        }
      ]
    },
    {
      "cell_type": "code",
      "metadata": {
        "id": "DDV-TyA8D_-r",
        "colab_type": "code",
        "outputId": "28408c4c-f835-4555-f315-66856609fd9c",
        "colab": {
          "base_uri": "https://localhost:8080/",
          "height": 272
        }
      },
      "source": [
        "decode = decode_soft\n",
        "\n",
        "for s in samples:\n",
        "    name1 = s['object1']['name']\n",
        "    name2 = s['object2']['name']\n",
        "\n",
        "    if s['object1']['points']['none'] > s['object2']['points']['none']:\n",
        "        begining = '{} is better than {} because'.format(name1, name2)\n",
        "    else:\n",
        "        begining = '{} is better than {} because'.format(name2, name1)\n",
        "\n",
        "    print(name1 + ' vs ' + name2)\n",
        "    for i in range(3):\n",
        "        result = decode(model, begining, maxlen = 10, temperature = 2)\n",
        "        tokens = tokenizer.convert_ids_to_tokens(result.view(-1).detach().cpu().numpy())\n",
        "        print(''.join(tokens).replace('Ġ', ' ').replace('Ċ', ' '))\n",
        "    print()"
      ],
      "execution_count": 0,
      "outputs": [
        {
          "output_type": "stream",
          "text": [
            "python vs java\n",
            "python is better than java because without conveyed Brook compositions slices Rav Rh legislature Binary bad\n",
            "python is better than java because audience varies automated\", hasn't said done.- Ross\n",
            "python is better than java because reass purse demos renderingSTRUCT DUPIBRTF impossible\n",
            "\n",
            "toyota vs nissan\n",
            "nissan is better than toyota because of holiday feel Titan Active Stupidit horse ALL benefit\n",
            "nissan is better than toyota because adolescent dressesoti%; GT brazenly ren Fro haunted\n",
            "nissan is better than toyota because matter using the charging iconic patent 4 pressed / revolver\n",
            "\n",
            "tea vs juice\n",
            "juice is better than tea because. reveå§ margin pleasures.Its 165agent weight\n",
            "juice is better than tea because it peace m traditions hor xaily ot %aches\n",
            "juice is better than tea because, again tell warned Sill define digital ignition DATA\n",
            "\n"
          ],
          "name": "stdout"
        }
      ]
    },
    {
      "cell_type": "code",
      "metadata": {
        "id": "jpw6jX_GEASd",
        "colab_type": "code",
        "outputId": "81ff59ab-8a6e-4597-f348-3c6c7256ba62",
        "colab": {
          "base_uri": "https://localhost:8080/",
          "height": 924
        }
      },
      "source": [
        "maxlen = 20\n",
        "\n",
        "for s in samples:\n",
        "    name1 = s['object1']['name']\n",
        "    name2 = s['object2']['name']\n",
        "\n",
        "    if s['object1']['points']['none'] > s['object2']['points']['none']:\n",
        "        begining = '{} is better than {} because'.format(name1, name2)\n",
        "    else:\n",
        "        begining = '{} is better than {} because'.format(name2, name1)\n",
        "\n",
        "    print(name1 + ' vs ' + name2)\n",
        "\n",
        "    result = torch.tensor(tokenizer.convert_tokens_to_ids(tokenizer.tokenize(begining))).view(1, -1).cuda()\n",
        "    heap = [(0.0, result)]\n",
        "\n",
        "    for i in range(maxlen):\n",
        "        heap = make_decoding_step(heap, model, heap_size=15, beam_size = 10)\n",
        "\n",
        "    for i in range(len(heap)):\n",
        "        sample = heappop(heap)[1]\n",
        "        tokens = tokenizer.convert_ids_to_tokens(sample.view(-1).detach().cpu().numpy())\n",
        "        print(''.join(tokens).replace('Ġ', ' ').replace('Ċ', ' '))\n",
        "    print()"
      ],
      "execution_count": 0,
      "outputs": [
        {
          "output_type": "stream",
          "text": [
            "python vs java\n",
            "python is better than java because it's easier to use.  If you want to learn more about Java, check out the\n",
            "python is better than java because it's easier to use.  If you want to learn more about java, check out the\n",
            "python is better than java because it's easier to use.  If you want to learn more about Java, check out this\n",
            "python is better than java because it's easier to use.  If you want to learn more about Java, you can read\n",
            "python is better than java because it's easier to use.  If you want to learn more about Java, check out my\n",
            "python is better than java because it's easier to use.  If you want to learn more about how to use java,\n",
            "python is better than java because it's easier to use.  If you want to learn more about Java, you can check\n",
            "python is better than java because it's easier to use.  If you want to learn more about Java, check out Java\n",
            "python is better than java because it's easier to use.  If you want to learn more about Java, you can find\n",
            "python is better than java because it's easier to use.  If you want to learn more about Java, you can download\n",
            "python is better than java because it's easier to use.  If you want to learn more about Java, check out:\n",
            "python is better than java because it's easier to use.  If you want to learn more about Java, you can visit\n",
            "python is better than java because it's easier to use.  If you want to learn more about Java, check out these\n",
            "python is better than java because it's easier to use.  If you want to learn more about Java, check out http\n",
            "python is better than java because it's easier to use.  If you want to learn more about Java, check out The\n",
            "\n",
            "toyota vs nissan\n",
            "nissan is better than toyota because it doesn't have a lot of competition.  Toyota is better than toyota because it\n",
            "nissan is better than toyota because it doesn't have a lot of competition.  Toyota  Toyota is better than\n",
            "nissan is better than toyota because it doesn't have a lot of competition.  Toyota  Toyota is one of\n",
            "nissan is better than toyota because it doesn't have a lot of competition.  Toyota  Toyota has a lot\n",
            "nissan is better than toyota because it doesn't have a lot of competition.  Toyota  Toyota is a very\n",
            "nissan is better than toyota because it doesn't have a lot of competition.  Toyota is better than toyota because they\n",
            "nissan is better than toyota because it doesn't have a lot of competition.  Toyota  Toyota is a good\n",
            "nissan is better than toyota because it doesn't have a lot of competition.  Toyota  Toyota is a great\n",
            "nissan is better than toyota because it doesn't have a lot of competition.  Toyota  Toyota is a big\n",
            "nissan is better than toyota because it doesn't have a lot of competition.  Toyota  Toyota is a company\n",
            "nissan is better than toyota because it doesn't have a lot of competition.  Toyota is better than toyota because its\n",
            "nissan is better than toyota because it doesn't have a lot of competition.  Toyota is better than toyota because Toyota\n",
            "nissan is better than toyota because it doesn't have a lot of competition.  Toyota is better than toyota because you\n",
            "nissan is better than toyota because it doesn't have a lot of competition.  Toyota is better than toyota because we\n",
            "nissan is better than toyota because it doesn't have a lot of competition.  Toyota is better than toyota because,\n",
            "\n",
            "tea vs juice\n",
            "juice is better than tea because it doesn't have to taste like tea.  If you're looking for something a little more\n",
            "juice is better than tea because it doesn't have to taste like tea.  If you're looking for a healthier alternative to\n",
            "juice is better than tea because it doesn't have to taste like tea.  If you're looking for something a little different\n",
            "juice is better than tea because it doesn't have to taste like tea.  If you're looking for a way to make\n",
            "juice is better than tea because it doesn't have to taste like tea.  If you're looking for something a little less\n",
            "juice is better than tea because it doesn't have to taste like tea.  If you're looking for a healthier alternative,\n",
            "juice is better than tea because it doesn't have to taste like tea.  If you're looking for a way to get\n",
            "juice is better than tea because it doesn't have to taste like tea.  If you're looking for a way to use\n",
            "juice is better than tea because it doesn't have to taste like tea.  If you're looking for something a little swe\n",
            "juice is better than tea because it doesn't have to taste like tea.  If you're looking for a way to add\n",
            "juice is better than tea because it doesn't have to taste like tea.  If you're looking for a way to avoid\n",
            "juice is better than tea because it doesn't have to taste like tea.  If you're looking for something a little lighter\n",
            "juice is better than tea because it doesn't have to taste like tea.  If you're looking for something a little extra\n",
            "juice is better than tea because it doesn't have to taste like tea.  If you're looking for something a little better\n",
            "juice is better than tea because it doesn't have to taste like tea.  If you're looking for something a little darker\n",
            "\n"
          ],
          "name": "stdout"
        }
      ]
    },
    {
      "cell_type": "code",
      "metadata": {
        "id": "89NUpoTQRUUf",
        "colab_type": "code",
        "colab": {
          "base_uri": "https://localhost:8080/",
          "height": 924
        },
        "outputId": "1cd32ef6-e498-4e33-c3f3-ace9b15145c5"
      },
      "source": [
        "maxlen = 20\n",
        "\n",
        "for s in samples:\n",
        "    name1 = s['object1']['name']\n",
        "    name2 = s['object2']['name']\n",
        "\n",
        "    if s['object1']['points']['none'] > s['object2']['points']['none']:\n",
        "        begining = '{} is better than {} because'.format(name1, name2)\n",
        "    else:\n",
        "        begining = '{} is better than {} because'.format(name2, name1)\n",
        "\n",
        "    print(name1 + ' vs ' + name2)\n",
        "\n",
        "    result = torch.tensor(tokenizer.convert_tokens_to_ids(tokenizer.tokenize(begining))).view(1, -1).cuda()\n",
        "    heap = [(0.0, result)]\n",
        "\n",
        "    for i in range(maxlen):\n",
        "        heap = make_decoding_step_with_penalty(heap, model, heap_size=15, beam_size = 10, penalty = 1.0)\n",
        "\n",
        "    for i in range(len(heap)):\n",
        "        sample = heappop(heap)\n",
        "        sample = sample[1]\n",
        "        tokens = tokenizer.convert_ids_to_tokens(sample.view(-1).detach().cpu().numpy())\n",
        "        print(''.join(tokens).replace('Ġ', ' ').replace('Ċ', ' '))\n",
        "    print()"
      ],
      "execution_count": 29,
      "outputs": [
        {
          "output_type": "stream",
          "text": [
            "python vs java\n",
            "python is better than java because it's faster and easier to use.  The main difference between java and java2 is that\n",
            "python is better than java because it's faster and easier to use.  If you want to learn more about Java, check\n",
            "python is better than java because it's faster and easier to use.  The main difference between java and java is that java\n",
            "python is better than java because it's faster and easier to use.  The main difference between java and java2 is the\n",
            "python is better than java because it's faster and easier to use.  The main difference between java and java-2.\n",
            "python is better than java because it's faster and easier to use.  If you want to learn more about Java, you\n",
            "python is better than java because it's faster and easier to use.  If you want to learn more about Java, read\n",
            "python is better than java because it's faster and easier to use.  The main difference between java and java2 is in\n",
            "python is better than java because it's faster and easier to use.  If you want to learn more about Java, I\n",
            "python is better than java because it's faster and easier to use.  If you want to learn more about Java, see\n",
            "python is better than java because it's faster and easier to use.  The main difference between java and java2 is it\n",
            "python is better than java because it's faster and easier to use.  The main difference between java and java2 is they\n",
            "python is better than java because it's faster and easier to use.  The main difference between java and java2 is Java\n",
            "python is better than java because it's faster and easier to use.  The main difference between java and java2 is a\n",
            "python is better than java because it's faster and easier to use.  The main difference between java and java2 is their\n",
            "\n",
            "toyota vs nissan\n",
            "nissan is better than toyota because it's a better car. It's a better car because it's a better car.  \n",
            "nissan is better than toyota because it's a better car. It's a better car than Toyota because it's a better car.\n",
            "nissan is better than toyota because it's a better car. It's a better car because it's a better car. It's\n",
            "nissan is better than toyota because it's a better car. It's a better car. It's a better car. It's\n",
            "nissan is better than toyota because it's a better car. It's a better car than Toyota because it's a better car than\n",
            "nissan is better than toyota because it's a better car. It's a better car than Toyota because it's a better car,\n",
            "nissan is better than toyota because it's a better car. It's a better car than Toyota because it's a better car and\n",
            "nissan is better than toyota because it's a better car. It's a better car than Toyota because it's a better car,\"\n",
            "nissan is better than toyota because it's a better car. It's a better car because it's a better car. I\n",
            "nissan is better than toyota because it's a better car. It's a better car than Toyota because it's a better car that\n",
            "nissan is better than toyota because it's a better car. It's a better car because it's a better car. The\n",
            "nissan is better than toyota because it's a better car. It's a better car than Toyota because it's a better car but\n",
            "nissan is better than toyota because it's a better car. It's a better car because it's a better car. \"\n",
            "nissan is better than toyota because it's a better car. It's a better car than Toyota because it's a better car with\n",
            "nissan is better than toyota because it's a better car. It's a better car because it's a better car. A\n",
            "\n",
            "tea vs juice\n",
            "juice is better than tea because it's more concentrated and it's easier to digest. It's also easier to digest.  \n",
            "juice is better than tea because it's more concentrated and it's easier to digest.  The best way to get the best\n",
            "juice is better than tea because it's more concentrated and it's easier to digest.  If you're looking for a more\n",
            "juice is better than tea because it's more concentrated and it's easier to digest.  If you're looking for a good\n",
            "juice is better than tea because it's more concentrated and it's easier to digest.  The best way to get the most\n",
            "juice is better than tea because it's more concentrated and it's easier to digest.  The best way to get rid of\n",
            "juice is better than tea because it's more concentrated and it's easier to digest.  If you're looking for a healthier\n",
            "juice is better than tea because it's more concentrated and it's easier to digest.  The best way to get the right\n",
            "juice is better than tea because it's more concentrated and it's easier to digest.  If you're looking for a low\n",
            "juice is better than tea because it's more concentrated and it's easier to digest.  The best way to get the fres\n",
            "juice is better than tea because it's more concentrated and it's easier to digest.  If you're looking for a great\n",
            "juice is better than tea because it's more concentrated and it's easier to digest.  The best way to get the highest\n",
            "juice is better than tea because it's more concentrated and it's easier to digest.  If you're looking for a high\n",
            "juice is better than tea because it's more concentrated and it's easier to digest.  If you're looking for a quick\n",
            "juice is better than tea because it's more concentrated and it's easier to digest.  If you're looking for a way\n",
            "\n"
          ],
          "name": "stdout"
        }
      ]
    },
    {
      "cell_type": "markdown",
      "metadata": {
        "id": "md0aAF7H2x_9",
        "colab_type": "text"
      },
      "source": [
        "# Finetuning"
      ]
    },
    {
      "cell_type": "code",
      "metadata": {
        "id": "P9B2VlLL21DR",
        "colab_type": "code",
        "colab": {}
      },
      "source": [
        "def dataloder(lines, maxlen, n_steps):\n",
        "    for i in range(n_steps):\n",
        "        tokens = None\n",
        "        while tokens is None:\n",
        "            try:\n",
        "                idx = np.random.choice(len(lines))\n",
        "                sentence = lines[idx]\n",
        "                tokens = torch.tensor(tokenizer.convert_tokens_to_ids(tokenizer.tokenize(sentence))).cuda()\n",
        "            except:\n",
        "                tokens = None\n",
        "        yield tokens.view(1, -1)"
      ],
      "execution_count": 0,
      "outputs": []
    },
    {
      "cell_type": "code",
      "metadata": {
        "id": "aX95zY8SO_4B",
        "colab_type": "code",
        "colab": {}
      },
      "source": [
        "with open('drive/My Drive/summarization/sentences.txt', 'r') as file:\n",
        "    lines = file.readlines()"
      ],
      "execution_count": 0,
      "outputs": []
    },
    {
      "cell_type": "code",
      "metadata": {
        "id": "tH4rxrNl22jM",
        "colab_type": "code",
        "colab": {}
      },
      "source": [
        "class Args():\n",
        "  def __init__(self):\n",
        "    pass\n",
        "\n",
        "args = Args()\n",
        "args.max_steps = 100000\n",
        "args.learning_rate = 5e-5\n",
        "args.weight_decay = 0.01\n",
        "args.adam_epsilon = 1e-9\n",
        "args.warmup_steps = 2000\n",
        "args.maxlen = 1024\n",
        "args.device = torch.device('cuda') "
      ],
      "execution_count": 0,
      "outputs": []
    },
    {
      "cell_type": "code",
      "metadata": {
        "id": "GPDcoSWL3BBb",
        "colab_type": "code",
        "colab": {}
      },
      "source": [
        "import os\n",
        "losses = []\n",
        "tr_losses = []\n",
        "\n",
        "def train(args, lines, model):\n",
        "    train_dataloader = dataloder(lines, args.maxlen, args.max_steps)\n",
        "\n",
        "    t_total = args.max_steps\n",
        "\n",
        "    # Prepare optimizer and schedule (linear warmup and decay)\n",
        "    no_decay = ['bias', 'LayerNorm.weight']\n",
        "    optimizer_grouped_parameters = [\n",
        "        {'params': [p for n, p in model.named_parameters() if not any(nd in n for nd in no_decay)], 'weight_decay': args.weight_decay},\n",
        "        {'params': [p for n, p in model.named_parameters() if any(nd in n for nd in no_decay)], 'weight_decay': 0.0}\n",
        "        ]\n",
        "    #print(t_total)\n",
        "    optimizer = BertAdam(optimizer_grouped_parameters, lr=args.learning_rate, eps=args.adam_epsilon, \n",
        "                         t_total = t_total, warmup = 0.05)\n",
        "\n",
        "    print(\"***** Running training *****\")\n",
        "    print(\"  Num examples = {}\".format(t_total))\n",
        "    #logger.info(\"  Gradient Accumulation steps = %d\", args.gradient_accumulation_steps)\n",
        "    #logger.info(\"  Total optimization steps = %d\", t_total)\n",
        "\n",
        "    global_step = 0\n",
        "    tr_loss, logging_loss = 0.0, 0.0\n",
        "    model.zero_grad()\n",
        "    #set_seed(args)  # Added here for reproducibility (even between python 2 and 3)\n",
        "    for step, batch in enumerate(train_dataloader):\n",
        "        inputs, labels =(batch, batch)\n",
        "        inputs = inputs.to(args.device)\n",
        "        labels = labels.to(args.device)\n",
        "        model.train()\n",
        "        outputs = model(inputs, lm_labels=labels)\n",
        "        loss = outputs#[0]  # model outputs are always tuple in transformers (see doc)\n",
        "\n",
        "        loss.backward()\n",
        "        optimizer.step()\n",
        "        model.zero_grad()\n",
        "\n",
        "        losses.append(loss.item())\n",
        "\n",
        "        global_step += 1\n",
        "        tr_loss += loss.item()\n",
        "        tr_losses.append(tr_loss/global_step)\n",
        "\n",
        "        if global_step % 200 == 0:\n",
        "            checkpoint_prefix = 'checkpoint'\n",
        "            # Save model checkpoint\n",
        "            if global_step % 2000 == 0:\n",
        "                output_dir = 'model'\n",
        "                if not os.path.exists(output_dir):\n",
        "                    os.makedirs(output_dir)\n",
        "                torch.save(model, os.path.join(output_dir, '{}-{}'.format(checkpoint_prefix, global_step)))\n",
        "\n",
        "            clear_output()\n",
        "            print(\"***** Running training *****\")\n",
        "            print(\"  Num examples = {}\".format(t_total))\n",
        "            #print(\"Saving model checkpoint to %s\", output_dir)\n",
        "            plt.plot(losses[::10], label = 'train_loss')\n",
        "            plt.plot(tr_losses[::10], label = 'smoothed_loss')\n",
        "            plt.legend()\n",
        "            plt.show()\n",
        "            \n",
        "    return global_step, tr_loss / global_step"
      ],
      "execution_count": 0,
      "outputs": []
    },
    {
      "cell_type": "code",
      "metadata": {
        "id": "g2aGZOQR3B1H",
        "colab_type": "code",
        "outputId": "785e6950-4a4f-46b7-ed29-cc1c78f9c2be",
        "colab": {
          "base_uri": "https://localhost:8080/",
          "height": 316
        }
      },
      "source": [
        "model = model.cuda()\n",
        "train(args, lines, model)"
      ],
      "execution_count": 0,
      "outputs": [
        {
          "output_type": "stream",
          "text": [
            "***** Running training *****\n",
            "  Num examples = 100000\n"
          ],
          "name": "stdout"
        },
        {
          "output_type": "display_data",
          "data": {
            "image/png": "[encoded data removed]",
            "text/plain": [
              "<Figure size 432x288 with 1 Axes>"
            ]
          },
          "metadata": {
            "tags": []
          }
        },
        {
          "output_type": "execute_result",
          "data": {
            "text/plain": [
              "(100000, 2.3110702802693286)"
            ]
          },
          "metadata": {
            "tags": []
          },
          "execution_count": 51
        }
      ]
    },
    {
      "cell_type": "code",
      "metadata": {
        "id": "hQWilBLrkeYh",
        "colab_type": "code",
        "outputId": "c528d1b5-3d2b-40a8-be21-abace8c18ca4",
        "colab": {
          "base_uri": "https://localhost:8080/",
          "height": 190
        }
      },
      "source": [
        "decode = decode_greedy\n",
        "\n",
        "for s in samples:\n",
        "    name1 = s['object1']['name']\n",
        "    name2 = s['object2']['name']\n",
        "\n",
        "    if s['object1']['points']['none'] > s['object2']['points']['none']:\n",
        "        begining = '{} is better than {} because'.format(name1, name2)\n",
        "    else:\n",
        "        begining = '{} is better than {} because'.format(name2, name1)\n",
        "\n",
        "    result = decode(model, begining, maxlen = 30)\n",
        "    tokens = tokenizer.convert_ids_to_tokens(result.view(-1).detach().cpu().numpy())\n",
        "\n",
        "    print(name1 + ' vs ' + name2)\n",
        "    print(''.join(tokens).replace('Ġ', ' ').replace('Ċ', ' '))\n",
        "    print()"
      ],
      "execution_count": 0,
      "outputs": [
        {
          "output_type": "stream",
          "text": [
            "python vs java\n",
            "python is better than java because it is more readable.  3.  3.1) I found that java is much easier to read than ruby.  3\n",
            "\n",
            "toyota vs nissan\n",
            "nissan is better than toyota because of the better quality of the interiors.     issan is better than toyota is better than nissan.  Toyota\n",
            "\n",
            "tea vs juice\n",
            "juice is better than tea because it lasts.  \"  \"   \"   \"   \"   \"   \" \n",
            "\n"
          ],
          "name": "stdout"
        }
      ]
    },
    {
      "cell_type": "code",
      "metadata": {
        "id": "aM83DW0XkJ-_",
        "colab_type": "code",
        "outputId": "be3a228e-462a-446c-c9a2-d9b33428a448",
        "colab": {
          "base_uri": "https://localhost:8080/",
          "height": 272
        }
      },
      "source": [
        "decode = decode_soft\n",
        "\n",
        "for s in samples:\n",
        "    name1 = s['object1']['name']\n",
        "    name2 = s['object2']['name']\n",
        "\n",
        "    if s['object1']['points']['none'] > s['object2']['points']['none']:\n",
        "        begining = '{} is better than {} because'.format(name1, name2)\n",
        "    else:\n",
        "        begining = '{} is better than {} because'.format(name2, name1)\n",
        "\n",
        "    print(name1 + ' vs ' + name2)\n",
        "    for i in range(3):\n",
        "        result = decode(model, begining, maxlen = 10, temperature = 10)\n",
        "        tokens = tokenizer.convert_ids_to_tokens(result.view(-1).detach().cpu().numpy())\n",
        "        print(''.join(tokens).replace('Ġ', ' ').replace('Ċ', ' '))\n",
        "    print()"
      ],
      "execution_count": 0,
      "outputs": [
        {
          "output_type": "stream",
          "text": [
            "python vs java\n",
            "python is better than java because Medic Beat Verifymost ImageØ§ÙĦ Tamil Cinderella Gospel pref\n",
            "python is better than java becauseuma666690 teasp continuous thunder distribute detainedide accusation\n",
            "python is better than java because fallacy knack jumps Hut quizzidge periods mascul stimulate cream\n",
            "\n",
            "toyota vs nissan\n",
            "nissan is better than toyota because stimulating humanities ninety proponentsunderlict455 photographyabled174\n",
            "nissan is better than toyota because voidSEE debilitating Byron bombardmentScar likely explosion shippingãĤ¤ãĥĪ\n",
            "nissan is better than toyota because adaptation ends turbulence CAN requestsgiven ratherLED Ae rockets\n",
            "\n",
            "tea vs juice\n",
            "juice is better than tea becauseRand Controller Fistcraftros AquJimmyinski supreme rival\n",
            "juice is better than tea because hunger MysticGS subscriberaspers rebukeUNE snippetsiancescreen\n",
            "juice is better than tea becauseasures nascent BottCrime besides Monarcharsity poetry fab liberals\n",
            "\n"
          ],
          "name": "stdout"
        }
      ]
    },
    {
      "cell_type": "code",
      "metadata": {
        "id": "QHE56cymkSQ_",
        "colab_type": "code",
        "outputId": "45921e99-1dc2-4952-b47c-10f8385a3b06",
        "colab": {
          "base_uri": "https://localhost:8080/",
          "height": 924
        }
      },
      "source": [
        "maxlen = 20\n",
        "\n",
        "for s in samples:\n",
        "    name1 = s['object1']['name']\n",
        "    name2 = s['object2']['name']\n",
        "\n",
        "    if s['object1']['points']['none'] > s['object2']['points']['none']:\n",
        "        begining = '{} is better than {} because'.format(name1, name2)\n",
        "    else:\n",
        "        begining = '{} is better than {} because'.format(name2, name1)\n",
        "\n",
        "    print(name1 + ' vs ' + name2)\n",
        "\n",
        "    result = torch.tensor(tokenizer.convert_tokens_to_ids(tokenizer.tokenize(begining))).view(1, -1).cuda()\n",
        "    heap = [(0.0, result)]\n",
        "\n",
        "    for i in range(maxlen):\n",
        "        heap = make_decoding_step(heap, model, heap_size=15, beam_size = 10)\n",
        "\n",
        "    for i in range(len(heap)):\n",
        "        sample = heappop(heap)[1]\n",
        "        tokens = tokenizer.convert_ids_to_tokens(sample.view(-1).detach().cpu().numpy())\n",
        "        print(''.join(tokens).replace('Ġ', ' ').replace('Ċ', ' '))\n",
        "    print()"
      ],
      "execution_count": 0,
      "outputs": [
        {
          "output_type": "stream",
          "text": [
            "python vs java\n",
            "python is better than java because it is more readable.  \"  \"  \"  \"  \"\n",
            "python is better than java because it is more readable.  3.  4.  5.  6\n",
            "python is better than java because it is more readable.  \"  \"  \"  \" \"  \n",
            "python is better than java because it is more readable.  \"  \"  \" \"  \" \" \n",
            "python is better than java because it is more readable.  \"  \"  \"  \"   \"\n",
            "python is better than java because it is more readable.  3.  4.  5.  5\n",
            "python is better than java because it is more readable.  3.  4.  5.   6\n",
            "python is better than java because it is more readable.  \"  \"  \"  \"  p\n",
            "python is better than java because it is more readable.  3.  4.  5.  4\n",
            "python is better than java because it is more readable.  3.  4.  5.  7\n",
            "python is better than java because it is more readable.  \"  \"  \"  \"  '\n",
            "python is better than java because it is more readable.  \"  \"  \"  \"   .\n",
            "python is better than java because it is more readable.  \"  \"  \"  \"  ''\n",
            "python is better than java because it is more readable.  \"  \"  \"  \"  P\n",
            "python is better than java because it is more readable.  \"  \"  \"  \"  -\n",
            "\n",
            "toyota vs nissan\n",
            "nissan is better than toyota because of the better quality of the interiors.  issan is worse than toyota.  \n",
            "nissan is better than toyota because of the better quality of the interiors.  issan is better than toyota.  \n",
            "nissan is better than toyota because of the better interiors.  issan is better than toyota is better than nissan .\n",
            "nissan is better than toyota because of the better interiors.  issan is better than toyota is better than nissan.\n",
            "nissan is better than toyota because of the better quality of the interiors.  issan is better than toyota is better than\n",
            "nissan is better than toyota because of the better interiors.  issan is better than toyota is better than nissan im\n",
            "nissan is better than toyota because of the better interiors.  issan is better than toyota is better than nissan and\n",
            "nissan is better than toyota because of the better interiors.  issan is better than toyota is better than nissan...\n",
            "nissan is better than toyota because of the better interiors.  issan is better than toyota is better than nissan is\n",
            "nissan is better than toyota because of the better interiors.  issan is better than toyota is better than nissan but\n",
            "nissan is better than toyota because of the better interiors.  issan is better than toyota is better than nissan ,\n",
            "nissan is better than toyota because of the better quality of the interiors.  issan is worse than toyota. 't\n",
            "nissan is better than toyota because of the better quality of the interiors.  issan is worse than toyota. ...\n",
            "nissan is better than toyota because of the better quality of the interiors.  issan is worse than toyota. /\n",
            "nissan is better than toyota because of the better quality of the interiors.  issan is worse than toyota.  .\n",
            "\n",
            "tea vs juice\n",
            "juice is better than tea because it lasts.  2.  3.  4.  5. \n",
            "juice is better than tea because it lasts!  \"  \"  \"   \"   \"\n",
            "juice is better than tea because it lasts!  \"  \"   .  \"  \"  \n",
            "juice is better than tea because it lasts!  \"  \"  \"   \"    \"\n",
            "juice is better than tea because it's more caffeinated.  ł ł ł ł ł ł \n",
            "juice is better than tea because it lasts!  \"  \"  \"   \"    .\n",
            "juice is better than tea because it lasts!  \"  \"  \"   \"   -\n",
            "juice is better than tea because it lasts.  2.  3.  4.  5. .\n",
            "juice is better than tea because it lasts.  2.  3.  4.  5. \"\n",
            "juice is better than tea because it lasts!  \"  \"  \"   \"   I\n",
            "juice is better than tea because it lasts.  2.  3.  4.  5. I\n",
            "juice is better than tea because it lasts.  2.  3.  4.  5. \n",
            "juice is better than tea because it lasts.  2.  3.  4.  5. It\n",
            "juice is better than tea because it lasts.  2.  3.  4.  5.1\n",
            "juice is better than tea because it lasts.  2.  3.  4.  5. And\n",
            "\n"
          ],
          "name": "stdout"
        }
      ]
    },
    {
      "cell_type": "markdown",
      "metadata": {
        "id": "anzX2otC2CNx",
        "colab_type": "text"
      },
      "source": [
        "# Outline\n",
        "\n",
        "- GPT-2 is capable of generating at least one coherent sentence. \n",
        "- Pretraining on the single sentences from CAM output allows to adapt model to the domain, but at the same time stimulates it to generate only one sentence.\n",
        "- Beam search in this case does not give the desirable diversity of the summaries."
      ]
    }
  ]
}